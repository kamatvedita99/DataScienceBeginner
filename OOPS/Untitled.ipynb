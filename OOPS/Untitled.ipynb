{
 "cells": [
  {
   "cell_type": "code",
   "execution_count": null,
   "id": "3e0b2271",
   "metadata": {},
   "outputs": [],
   "source": [
    "# When to create a class in python\n",
    "# What is self keyword and why it's needed to be explicitly passed in class methods\n",
    "# typing class variables\n",
    "# public private in python ?\n"
   ]
  },
  {
   "cell_type": "code",
   "execution_count": 1,
   "id": "0d47acab",
   "metadata": {},
   "outputs": [],
   "source": [
    "class test:\n",
    "    pass"
   ]
  },
  {
   "cell_type": "code",
   "execution_count": 2,
   "id": "08ec3a64",
   "metadata": {},
   "outputs": [],
   "source": [
    "a = test()"
   ]
  },
  {
   "cell_type": "code",
   "execution_count": 3,
   "id": "64678996",
   "metadata": {},
   "outputs": [
    {
     "data": {
      "text/plain": [
       "__main__.test"
      ]
     },
     "execution_count": 3,
     "metadata": {},
     "output_type": "execute_result"
    }
   ],
   "source": [
    "type(a)"
   ]
  },
  {
   "cell_type": "code",
   "execution_count": 6,
   "id": "cbc7d184",
   "metadata": {},
   "outputs": [],
   "source": [
    "\n",
    "class pwskills:\n",
    "    def welcome_message(self):\n",
    "        print(\"Welcome to PW Skills\")"
   ]
  },
  {
   "cell_type": "code",
   "execution_count": 7,
   "id": "a3632bdd",
   "metadata": {},
   "outputs": [
    {
     "name": "stdout",
     "output_type": "stream",
     "text": [
      "Welcome to PW Skills\n"
     ]
    }
   ],
   "source": [
    "# instance/object/variable of class\n",
    "rohan = pwskills()\n",
    "rohan.welcome_message()"
   ]
  },
  {
   "cell_type": "code",
   "execution_count": 8,
   "id": "50293da8",
   "metadata": {},
   "outputs": [
    {
     "name": "stdout",
     "output_type": "stream",
     "text": [
      "Welcome to PW Skills\n"
     ]
    }
   ],
   "source": [
    "gaurav = pwskills()\n",
    "gaurav.welcome_message()"
   ]
  },
  {
   "cell_type": "code",
   "execution_count": 20,
   "id": "ce4b4130",
   "metadata": {},
   "outputs": [],
   "source": [
    "class student :\n",
    "    def __init__(self,name,phone_number,email_id,age): #constructor for a class\n",
    "        self.name = name\n",
    "        self.phone_number = phone_number\n",
    "        self.email_id = email_id\n",
    "        self.age = age\n",
    "    def return_student_details(self):\n",
    "        return self.name,self.phone_number,self.email_id,self.age"
   ]
  },
  {
   "cell_type": "code",
   "execution_count": 14,
   "id": "40fedf40",
   "metadata": {},
   "outputs": [],
   "source": [
    "student1 = student(\"Vedita\",\"9822123533\",\"kamatvedita99@gmail.com\",23)"
   ]
  },
  {
   "cell_type": "code",
   "execution_count": 16,
   "id": "87a4de58",
   "metadata": {},
   "outputs": [
    {
     "name": "stdout",
     "output_type": "stream",
     "text": [
      "Vedita\n",
      "9822123533\n"
     ]
    }
   ],
   "source": [
    "print(student1.name)\n",
    "print(student1.phone_number)"
   ]
  },
  {
   "cell_type": "code",
   "execution_count": 17,
   "id": "39d4c4a5",
   "metadata": {},
   "outputs": [
    {
     "data": {
      "text/plain": [
       "('Vedita', '9822123533', 'kamatvedita99@gmail.com', 23)"
      ]
     },
     "execution_count": 17,
     "metadata": {},
     "output_type": "execute_result"
    }
   ],
   "source": [
    "student1.return_student_details()"
   ]
  },
  {
   "cell_type": "code",
   "execution_count": 18,
   "id": "1229ec5b",
   "metadata": {},
   "outputs": [],
   "source": [
    "gaurav = student(\"Gaurav\",\"12345990\",\"veditakamat@gmail.com\",24)"
   ]
  },
  {
   "cell_type": "code",
   "execution_count": 19,
   "id": "6f23fac1",
   "metadata": {},
   "outputs": [
    {
     "data": {
      "text/plain": [
       "('Gaurav', '12345990', 'veditakamat@gmail.com', 24)"
      ]
     },
     "execution_count": 19,
     "metadata": {},
     "output_type": "execute_result"
    }
   ],
   "source": [
    "gaurav.return_student_details()"
   ]
  },
  {
   "cell_type": "code",
   "execution_count": 21,
   "id": "0756a596",
   "metadata": {},
   "outputs": [],
   "source": [
    "#self is not a reserved keyword. It only marks the scope.\n",
    "class student :\n",
    "    def __init__(scope,name,phone_number,email_id,age): #constructor for a class\n",
    "        scope.name = name\n",
    "        scope.phone_number = phone_number\n",
    "        scope.email_id = email_id\n",
    "        scope.age = age\n",
    "    def return_student_details(scope):\n",
    "        return scope.name,scope.phone_number,scope.email_id,scope.age"
   ]
  },
  {
   "cell_type": "code",
   "execution_count": 22,
   "id": "1084654e",
   "metadata": {},
   "outputs": [],
   "source": [
    "s1 = student(\"Bhushan\",\"45678993\",\"b@gmail.com\",25)"
   ]
  },
  {
   "cell_type": "code",
   "execution_count": 23,
   "id": "154db3b4",
   "metadata": {},
   "outputs": [
    {
     "data": {
      "text/plain": [
       "('Bhushan', '45678993', 'b@gmail.com', 25)"
      ]
     },
     "execution_count": 23,
     "metadata": {},
     "output_type": "execute_result"
    }
   ],
   "source": [
    "s1.return_student_details()"
   ]
  },
  {
   "cell_type": "code",
   "execution_count": null,
   "id": "e1b4bae5",
   "metadata": {},
   "outputs": [],
   "source": []
  }
 ],
 "metadata": {
  "kernelspec": {
   "display_name": "Python 3",
   "language": "python",
   "name": "python3"
  },
  "language_info": {
   "codemirror_mode": {
    "name": "ipython",
    "version": 3
   },
   "file_extension": ".py",
   "mimetype": "text/x-python",
   "name": "python",
   "nbconvert_exporter": "python",
   "pygments_lexer": "ipython3",
   "version": "3.8.8"
  }
 },
 "nbformat": 4,
 "nbformat_minor": 5
}
