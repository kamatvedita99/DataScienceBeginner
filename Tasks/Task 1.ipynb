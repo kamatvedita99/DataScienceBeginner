{
 "cells": [
  {
   "cell_type": "markdown",
   "id": "e3342cf7",
   "metadata": {},
   "source": [
    "# Q1 Create a function which will take a list as an argument and return the product of all the numbers after creating a flat list.\n",
    "\n",
    "Use the below-given list as an argument for your function.\n",
    "list1 = [1,2,3,4, [44,55,66, True], False, (34,56,78,89,34), {1,2,3,3,2,1}, {1:34, \"key2\": [55, 67, 78, 89], 4: (45,\n",
    "22, 61, 34)}, [56, 'data science'], 'Machine Learning']"
   ]
  },
  {
   "cell_type": "code",
   "execution_count": 75,
   "id": "7a388878",
   "metadata": {},
   "outputs": [],
   "source": [
    "def is_number(number):\n",
    "    '''This method checks if the input passed is a number or not'''\n",
    "    \n",
    "    if str(number).isnumeric():\n",
    "        return True\n",
    "    return False"
   ]
  },
  {
   "cell_type": "code",
   "execution_count": 76,
   "id": "ad46f92a",
   "metadata": {},
   "outputs": [],
   "source": [
    "def flatten_collection(collection):\n",
    "    '''This method accepts list/tuple/set as input and flattens it. It only returns numeric data from the flattened collection'''\n",
    "    numeric_coll = []\n",
    "    for element in collection:\n",
    "        if is_number(element):\n",
    "            numeric_coll.append(element)\n",
    "    return numeric_coll"
   ]
  },
  {
   "cell_type": "code",
   "execution_count": 79,
   "id": "011516e3",
   "metadata": {},
   "outputs": [
    {
     "data": {
      "text/plain": [
       "[56]"
      ]
     },
     "execution_count": 79,
     "metadata": {},
     "output_type": "execute_result"
    }
   ],
   "source": [
    "flatten_collection([44,55,66,True])\n",
    "flatten_collection((34,56,78,89,34))\n",
    "flatten_collection([56, 'data science'])"
   ]
  },
  {
   "cell_type": "code",
   "execution_count": 98,
   "id": "c2d58e4b",
   "metadata": {},
   "outputs": [],
   "source": [
    "def flatten_dictionary(dict):\n",
    "    '''This method accepts dictionary as input and flattens it. It only returns numeric data from flattened dictionary'''\n",
    "    numeric_coll = []\n",
    "    \n",
    "    for item in dict.items():\n",
    "        key = item[0]\n",
    "        value = item[1]\n",
    "        \n",
    "        if is_number(key):\n",
    "            numeric_coll.append(key)\n",
    "            \n",
    "        if is_number(value):\n",
    "            numeric_coll.append(value)\n",
    "            \n",
    "        elif(type(value)==list or type(value)==tuple or type(value)==set):\n",
    "            numeric_coll.extend(flatten_collection(value))\n",
    "    \n",
    "    return numeric_coll\n",
    "        \n",
    "        \n",
    "            \n",
    "        "
   ]
  },
  {
   "cell_type": "code",
   "execution_count": 91,
   "id": "5d55f70e",
   "metadata": {},
   "outputs": [
    {
     "name": "stdout",
     "output_type": "stream",
     "text": [
      "<class 'list'>\n",
      "<class 'tuple'>\n"
     ]
    },
    {
     "data": {
      "text/plain": [
       "[1, 34, 55, 67, 78, 89, 4, 45, 22, 61, 34]"
      ]
     },
     "execution_count": 91,
     "metadata": {},
     "output_type": "execute_result"
    }
   ],
   "source": [
    "flatten_dictionary({1:34, \"key2\": [55, 67, 78, 89], 4: (45,22, 61, 34)})"
   ]
  },
  {
   "cell_type": "code",
   "execution_count": 95,
   "id": "866694ff",
   "metadata": {},
   "outputs": [],
   "source": [
    "def flatten_list(l):\n",
    "    flat_list = []\n",
    "    for i in l:\n",
    "        \n",
    "        if str(i).isnumeric():\n",
    "            flat_list.append(i)\n",
    "            \n",
    "        elif(type(i)==list or type(i)==tuple or type(i)==set):\n",
    "            flat_list.extend(flatten_collection(i))\n",
    "            \n",
    "        elif(type(i)==dict):\n",
    "            flat_list.extend(flatten_dictionary(i))\n",
    "        \n",
    "    return flat_list\n",
    "            "
   ]
  },
  {
   "cell_type": "code",
   "execution_count": 99,
   "id": "ac9810a7",
   "metadata": {},
   "outputs": [
    {
     "name": "stdout",
     "output_type": "stream",
     "text": [
      "<class 'list'>\n",
      "<class 'tuple'>\n",
      "<class 'set'>\n",
      "<class 'list'>\n",
      "[1, 2, 3, 4, 44, 55, 66, 34, 56, 78, 89, 34, 1, 2, 3, 1, 34, 55, 67, 78, 89, 4, 45, 22, 61, 34, 56]\n"
     ]
    }
   ],
   "source": [
    "list1 = [1,2,3,4, [44,55,66, True], False, (34,56,78,89,34), {1,2,3,3,2,1}, \\\n",
    "         {1:34, \"key2\": [55, 67, 78, 89], 4: (45,22, 61, 34)}, [56, 'data science'], 'Machine Learning']\n",
    "\n",
    "output = flatten_list(list1)\n",
    "print(output)"
   ]
  },
  {
   "cell_type": "markdown",
   "id": "28208578",
   "metadata": {},
   "source": [
    "# Q2. Write a python program for encrypting a message sent to you by your friend. \n",
    "\n",
    "The logic of encryption should be such that, for a the output should be z. For b, the output should be y. For c, the output should be x respectively. Also, the whitespace should be replaced with a dollar sign. Keep the punctuation marks unchanged.\n",
    "\n",
    "Input Sentence: I want to become a Data Scientist.\n",
    "Encrypt the above input sentence using the program you just created.\n",
    "Note: Convert the given input sentence into lowercase before encrypting. The final output should be\n",
    "lowercase.\n"
   ]
  },
  {
   "cell_type": "code",
   "execution_count": 4,
   "id": "b047fc96",
   "metadata": {},
   "outputs": [
    {
     "name": "stdout",
     "output_type": "stream",
     "text": [
      "ASCII Value: 97 Character: a\n",
      "ASCII Value: 98 Character: b\n",
      "ASCII Value: 99 Character: c\n",
      "ASCII Value: 100 Character: d\n",
      "ASCII Value: 101 Character: e\n",
      "ASCII Value: 102 Character: f\n",
      "ASCII Value: 103 Character: g\n",
      "ASCII Value: 104 Character: h\n",
      "ASCII Value: 105 Character: i\n",
      "ASCII Value: 106 Character: j\n",
      "ASCII Value: 107 Character: k\n",
      "ASCII Value: 108 Character: l\n",
      "ASCII Value: 109 Character: m\n",
      "ASCII Value: 110 Character: n\n",
      "ASCII Value: 111 Character: o\n",
      "ASCII Value: 112 Character: p\n",
      "ASCII Value: 113 Character: q\n",
      "ASCII Value: 114 Character: r\n",
      "ASCII Value: 115 Character: s\n",
      "ASCII Value: 116 Character: t\n",
      "ASCII Value: 117 Character: u\n",
      "ASCII Value: 118 Character: v\n",
      "ASCII Value: 119 Character: w\n",
      "ASCII Value: 120 Character: x\n",
      "ASCII Value: 121 Character: y\n",
      "ASCII Value: 122 Character: z\n"
     ]
    }
   ],
   "source": [
    "for ch in range(97,123):\n",
    "    print(\"ASCII Value: \"+str(ch)+\" Character: \"+chr(ch))"
   ]
  },
  {
   "cell_type": "code",
   "execution_count": 41,
   "id": "d0d0adbe",
   "metadata": {},
   "outputs": [],
   "source": [
    "def encrypt_letter(i):\n",
    "    \n",
    "    #convert to lowercase\n",
    "    i = i.lower()\n",
    "    \n",
    "    #if space, return dollar sign\n",
    "    if i == \" \":\n",
    "        return \"$\"\n",
    "    \n",
    "    #if alphabet return respective code\n",
    "    if ord(i)>=97 and ord(i)<=122:\n",
    "        diff = 122 - ord(i)\n",
    "        return chr(97 + diff)\n",
    "    \n",
    "    #if punctuation or any other symbol return the symbol itself\n",
    "    return i"
   ]
  },
  {
   "cell_type": "code",
   "execution_count": 42,
   "id": "261702d0",
   "metadata": {},
   "outputs": [],
   "source": [
    "def encrypt_text(word):\n",
    "    \n",
    "    code = \"\"\n",
    "    \n",
    "    #traverse over each letter of the word and fetch respective code symbol\n",
    "    for letter in word:\n",
    "        code += encrypt_letter(letter)\n",
    "        \n",
    "    return code\n",
    "        \n"
   ]
  },
  {
   "cell_type": "code",
   "execution_count": 43,
   "id": "23642680",
   "metadata": {},
   "outputs": [
    {
     "data": {
      "text/plain": [
       "'r$dzmg$gl$yvxlnv$z$wzgz$hxrvmgrhg.'"
      ]
     },
     "execution_count": 43,
     "metadata": {},
     "output_type": "execute_result"
    }
   ],
   "source": [
    "word = 'I want to become a Data Scientist.'\n",
    "encrypt_text(word)"
   ]
  }
 ],
 "metadata": {
  "kernelspec": {
   "display_name": "Python 3",
   "language": "python",
   "name": "python3"
  },
  "language_info": {
   "codemirror_mode": {
    "name": "ipython",
    "version": 3
   },
   "file_extension": ".py",
   "mimetype": "text/x-python",
   "name": "python",
   "nbconvert_exporter": "python",
   "pygments_lexer": "ipython3",
   "version": "3.8.8"
  }
 },
 "nbformat": 4,
 "nbformat_minor": 5
}
