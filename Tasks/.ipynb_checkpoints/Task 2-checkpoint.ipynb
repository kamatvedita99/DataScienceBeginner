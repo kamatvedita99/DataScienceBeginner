{
 "cells": [
  {
   "cell_type": "markdown",
   "id": "56974ab6",
   "metadata": {},
   "source": [
    "# Q1. \n",
    "You are writing code for a company. The requirement of the company is that you create a python\n",
    "function that will check whether the password entered by the user is correct or not. The function should\n",
    "take the password as input and return the string “Valid Password” if the entered password follows the\n",
    "below-given password guidelines else it should return “Invalid Password”.\n",
    "Note: \n",
    "1. The Password should contain at least two uppercase letters and at least two lowercase letters.\n",
    "2. The Password should contain at least a number and three special characters.\n",
    "3. The length of the password should be 10 characters long."
   ]
  },
  {
   "cell_type": "code",
   "execution_count": 6,
   "id": "9671693f",
   "metadata": {},
   "outputs": [],
   "source": [
    "import string\n"
   ]
  },
  {
   "cell_type": "code",
   "execution_count": 7,
   "id": "7eaed1f6",
   "metadata": {},
   "outputs": [],
   "source": [
    "def validate_password(password):\n",
    "    upperCase = 0\n",
    "    lowerCase = 0\n",
    "    digit = 0\n",
    "    specialChar = 0\n",
    "    \n",
    "    if(len(password) < 10):\n",
    "        return \"Invalid Password\"\n",
    "    \n",
    "    for i in password:\n",
    "        \n",
    "        if i.islower():\n",
    "            lowerCase+=1\n",
    "            \n",
    "        elif i.isupper():\n",
    "            upperCase+=1\n",
    "            \n",
    "        elif i.isdigit():\n",
    "            digit+=1\n",
    "            \n",
    "        elif i in string.punctuation:\n",
    "            specialChar+=1\n",
    "            \n",
    "    if(upperCase>=2 and lowerCase>=2 and digit>=1 and specialChar>=3):\n",
    "        return \"Valid Password\"\n",
    "    \n",
    "    return \"Invalid Password\"\n",
    "        \n",
    "        "
   ]
  },
  {
   "cell_type": "code",
   "execution_count": 14,
   "id": "1d8245e3",
   "metadata": {},
   "outputs": [
    {
     "data": {
      "text/plain": [
       "'Invalid Password'"
      ]
     },
     "execution_count": 14,
     "metadata": {},
     "output_type": "execute_result"
    }
   ],
   "source": [
    "validate_password(\"aAA#~44\")"
   ]
  },
  {
   "cell_type": "markdown",
   "id": "34050baa",
   "metadata": {},
   "source": [
    "Q2. Solve the below-given questions using at least one of the following:\n",
    "1. Lambda functioJ\n",
    "2. Filter functioJ\n",
    "3. Zap functioJ\n",
    "4. List ComprehensioI\n",
    "\n",
    "Check if the string starts with a particular letter\n",
    "\n",
    "Check if the string is numeric\n",
    "\n",
    "Sort a list of tuples having fruit names and their quantity.  [(\"mango\",99),(\"orange\",80), (\"grapes\", 1000)]\n",
    "\n",
    "Find the squares of numbers from 1 to 10\n",
    "\n",
    "Find the cube root of numbers from 1 to 10\n",
    "\n",
    "Check if a given number is even\n",
    "\n",
    "Filter odd numbers from the given list.\n",
    "[1,2,3,4,5,6,7,8,9,10]\n",
    "\n",
    "Sort a list of integers into positive and negative integers lists.\n",
    "[1,2,3,4,5,6,-1,-2,-3,-4,-5,0]"
   ]
  },
  {
   "cell_type": "code",
   "execution_count": 27,
   "id": "49337e85",
   "metadata": {},
   "outputs": [],
   "source": [
    "#Check if the string starts with a particular letter\n",
    "startsWith = lambda word,letter : word.startswith(letter)"
   ]
  },
  {
   "cell_type": "code",
   "execution_count": 17,
   "id": "d564b9e6",
   "metadata": {},
   "outputs": [
    {
     "data": {
      "text/plain": [
       "False"
      ]
     },
     "execution_count": 17,
     "metadata": {},
     "output_type": "execute_result"
    }
   ],
   "source": [
    "startsWith(\"Vedita\", 'v')"
   ]
  },
  {
   "cell_type": "code",
   "execution_count": 18,
   "id": "a5eeb6c0",
   "metadata": {},
   "outputs": [
    {
     "data": {
      "text/plain": [
       "True"
      ]
     },
     "execution_count": 18,
     "metadata": {},
     "output_type": "execute_result"
    }
   ],
   "source": [
    "startsWith(\"Vedita\", 'V')"
   ]
  },
  {
   "cell_type": "code",
   "execution_count": 29,
   "id": "05aba07d",
   "metadata": {},
   "outputs": [
    {
     "name": "stdout",
     "output_type": "stream",
     "text": [
      "False\n",
      "False\n",
      "True\n"
     ]
    }
   ],
   "source": [
    "#Check if the string is numeric\n",
    "\n",
    "isnumeric = lambda word : str(word).isdigit()\n",
    "print(isnumeric(\"Vedita 123\"))\n",
    "print(isnumeric(123.78))\n",
    "print(isnumeric(123))"
   ]
  },
  {
   "cell_type": "code",
   "execution_count": 7,
   "id": "b01cbc06",
   "metadata": {},
   "outputs": [
    {
     "data": {
      "text/plain": [
       "[('grapes', 1000), ('mango', 99), ('orange', 80)]"
      ]
     },
     "execution_count": 7,
     "metadata": {},
     "output_type": "execute_result"
    }
   ],
   "source": [
    "#Sort a list of tuples having fruit names and their quantity.\n",
    "tup = [(\"mango\",99),(\"orange\",80), (\"grapes\", 1000)]\n",
    "sorted(tup, key = lambda x:x[1], reverse = False)\n",
    "sorted(tup, key = lambda x:x[1], reverse = True)"
   ]
  },
  {
   "cell_type": "code",
   "execution_count": 20,
   "id": "2438d2be",
   "metadata": {},
   "outputs": [
    {
     "name": "stdout",
     "output_type": "stream",
     "text": [
      "[1, 4, 9, 16, 25, 36, 49, 64, 81, 100]\n"
     ]
    }
   ],
   "source": [
    "#square of numbers from 1 to 10\n",
    "squares = [i**2 for i in range(1,11)]\n",
    "print(squares)"
   ]
  },
  {
   "cell_type": "code",
   "execution_count": 32,
   "id": "bab85e5d",
   "metadata": {},
   "outputs": [
    {
     "name": "stdout",
     "output_type": "stream",
     "text": [
      "[1.0, 1.2599210498948732, 1.4422495703074083, 1.5874010519681994, 1.7099759466766968, 1.8171205928321397, 1.912931182772389, 2.0, 2.080083823051904, 2.154434690031884]\n"
     ]
    }
   ],
   "source": [
    "#cube root of numbers from 1 to 10\n",
    "cubes = [i**(1/3) for i in range(1,11)]\n",
    "print(cubes)"
   ]
  },
  {
   "cell_type": "code",
   "execution_count": 31,
   "id": "edc140fe",
   "metadata": {},
   "outputs": [
    {
     "name": "stdout",
     "output_type": "stream",
     "text": [
      "False\n"
     ]
    }
   ],
   "source": [
    "#Check if a given number is even\n",
    "iseven = lambda x : x%2==0\n",
    "print(iseven(609))"
   ]
  },
  {
   "cell_type": "code",
   "execution_count": 2,
   "id": "5246e015",
   "metadata": {},
   "outputs": [
    {
     "data": {
      "text/plain": [
       "[1, 3, 5, 7, 9]"
      ]
     },
     "execution_count": 2,
     "metadata": {},
     "output_type": "execute_result"
    }
   ],
   "source": [
    "#Filter odd numbers from the given list.\n",
    "l = [1,2,3,4,5,6,7,8,9,10]\n",
    "ans = list(filter(lambda x:x%2!=0,l))\n",
    "ans"
   ]
  },
  {
   "cell_type": "code",
   "execution_count": 10,
   "id": "48e8ba3e",
   "metadata": {},
   "outputs": [
    {
     "name": "stdout",
     "output_type": "stream",
     "text": [
      "[1, 2, 3, 4, 5, 6]\n",
      "[-5, -4, -3, -2, -1]\n"
     ]
    }
   ],
   "source": [
    "#Sort a list of integers into positive and negative integers lists. [1,2,3,4,5,6,-1,-2,-3,-4,-5,0]\n",
    "l = [1,2,3,4,5,6,-1,-2,-3,-4,-5,0]\n",
    "l1 = sorted(list(filter(lambda x:x>0,l)))\n",
    "l2 = sorted(list(filter(lambda x:x<0,l)))\n",
    "print(l1)\n",
    "print(l2)"
   ]
  },
  {
   "cell_type": "code",
   "execution_count": null,
   "id": "d9db2f6f",
   "metadata": {},
   "outputs": [],
   "source": []
  }
 ],
 "metadata": {
  "kernelspec": {
   "display_name": "Python 3",
   "language": "python",
   "name": "python3"
  },
  "language_info": {
   "codemirror_mode": {
    "name": "ipython",
    "version": 3
   },
   "file_extension": ".py",
   "mimetype": "text/x-python",
   "name": "python",
   "nbconvert_exporter": "python",
   "pygments_lexer": "ipython3",
   "version": "3.8.8"
  }
 },
 "nbformat": 4,
 "nbformat_minor": 5
}
