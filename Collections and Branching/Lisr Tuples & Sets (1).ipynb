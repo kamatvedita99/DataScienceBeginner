{
 "cells": [
  {
   "cell_type": "code",
   "execution_count": 2,
   "id": "d3c6f2df-5c92-45a1-b1b0-0e9ae317ae0f",
   "metadata": {},
   "outputs": [
    {
     "name": "stdout",
     "output_type": "stream",
     "text": [
      "<class 'list'>\n",
      "[1, 345, 45.89, 'Vedita', True, (5+2j)]\n"
     ]
    }
   ],
   "source": [
    "#List is used to store data of multiple data types at a single storage location\n",
    "l = [1,345,45.89,\"Vedita\",True,5+2j]\n",
    "print(type(l))\n",
    "print(l)"
   ]
  },
  {
   "cell_type": "code",
   "execution_count": 10,
   "id": "d55820e2-2818-40f5-abbe-64dcc0917320",
   "metadata": {},
   "outputs": [
    {
     "ename": "IndexError",
     "evalue": "list index out of range",
     "output_type": "error",
     "traceback": [
      "\u001b[0;31m---------------------------------------------------------------------------\u001b[0m",
      "\u001b[0;31mIndexError\u001b[0m                                Traceback (most recent call last)",
      "Cell \u001b[0;32mIn[10], line 2\u001b[0m\n\u001b[1;32m      1\u001b[0m l[\u001b[38;5;241m0\u001b[39m]\n\u001b[0;32m----> 2\u001b[0m \u001b[43ml\u001b[49m\u001b[43m[\u001b[49m\u001b[38;5;241;43m90\u001b[39;49m\u001b[43m]\u001b[49m\n",
      "\u001b[0;31mIndexError\u001b[0m: list index out of range"
     ]
    }
   ],
   "source": [
    "l[0]\n",
    "l[90]"
   ]
  },
  {
   "cell_type": "code",
   "execution_count": 12,
   "id": "03bfb4e0-b978-4bbf-81d2-7f6d121d28c5",
   "metadata": {},
   "outputs": [
    {
     "data": {
      "text/plain": [
       "[(5+2j), True, 'Vedita', 45.89, 345, 1]"
      ]
     },
     "execution_count": 12,
     "metadata": {},
     "output_type": "execute_result"
    }
   ],
   "source": [
    "l[0:4:2]\n",
    "l[::-1]"
   ]
  },
  {
   "cell_type": "code",
   "execution_count": 16,
   "id": "cb1995d6-90f2-44d2-b8ea-b7637f8a95b0",
   "metadata": {},
   "outputs": [
    {
     "data": {
      "text/plain": [
       "[(5+2j), True, 'Vedita']"
      ]
     },
     "execution_count": 16,
     "metadata": {},
     "output_type": "execute_result"
    }
   ],
   "source": [
    "l[-1:-4:-1]"
   ]
  },
  {
   "cell_type": "code",
   "execution_count": 17,
   "id": "018783fa-fb15-4183-b51f-c0434857f1ef",
   "metadata": {},
   "outputs": [
    {
     "ename": "NameError",
     "evalue": "name 's' is not defined",
     "output_type": "error",
     "traceback": [
      "\u001b[0;31m---------------------------------------------------------------------------\u001b[0m",
      "\u001b[0;31mNameError\u001b[0m                                 Traceback (most recent call last)",
      "Cell \u001b[0;32mIn[17], line 1\u001b[0m\n\u001b[0;32m----> 1\u001b[0m l\u001b[38;5;241m+\u001b[39m\u001b[43ms\u001b[49m\n",
      "\u001b[0;31mNameError\u001b[0m: name 's' is not defined"
     ]
    }
   ],
   "source": [
    "l+s # can't concatenate different data types together."
   ]
  },
  {
   "cell_type": "code",
   "execution_count": 20,
   "id": "b882411b-9c71-4185-8188-f59f87828cc9",
   "metadata": {},
   "outputs": [
    {
     "data": {
      "text/plain": [
       "['p', 'w', 's', 'k', 'i', 'l', 'l', 's']"
      ]
     },
     "execution_count": 20,
     "metadata": {},
     "output_type": "execute_result"
    }
   ],
   "source": [
    "s = \"pwskills\"\n",
    "list(s) #list function breaks the string into single characters"
   ]
  },
  {
   "cell_type": "code",
   "execution_count": 21,
   "id": "1015abdd-ad6d-4db6-847a-88cbc66913bb",
   "metadata": {},
   "outputs": [
    {
     "data": {
      "text/plain": [
       "[1, 345, 45.89, 'Vedita', True, (5+2j), 'p', 'w', 's', 'k', 'i', 'l', 'l', 's']"
      ]
     },
     "execution_count": 21,
     "metadata": {},
     "output_type": "execute_result"
    }
   ],
   "source": [
    "l + list(s)"
   ]
  },
  {
   "cell_type": "code",
   "execution_count": 24,
   "id": "640709eb-e971-470f-bae2-0bab69e8ed25",
   "metadata": {},
   "outputs": [
    {
     "name": "stdout",
     "output_type": "stream",
     "text": [
      "[1, 345, 45.89, 'Vedita', True, (5+2j), 'pwskills', 'pwskills', 'pwskills']\n"
     ]
    }
   ],
   "source": [
    "l.append(s)\n",
    "print(l)"
   ]
  },
  {
   "cell_type": "code",
   "execution_count": 26,
   "id": "b3a27b89-e3c0-4e07-a523-aa3a20f9e661",
   "metadata": {},
   "outputs": [
    {
     "data": {
      "text/plain": [
       "'Vedi'"
      ]
     },
     "execution_count": 26,
     "metadata": {},
     "output_type": "execute_result"
    }
   ],
   "source": [
    "l[3][0:4]"
   ]
  },
  {
   "cell_type": "code",
   "execution_count": 27,
   "id": "625b5434-656f-496b-96fd-db03c55852ff",
   "metadata": {},
   "outputs": [
    {
     "data": {
      "text/plain": [
       "'Tr'"
      ]
     },
     "execution_count": 27,
     "metadata": {},
     "output_type": "execute_result"
    }
   ],
   "source": [
    "str(l[4])[0:2]"
   ]
  },
  {
   "cell_type": "code",
   "execution_count": 28,
   "id": "138df884-927c-4886-8433-b333cdc938f1",
   "metadata": {},
   "outputs": [
    {
     "ename": "TypeError",
     "evalue": "can only concatenate list (not \"int\") to list",
     "output_type": "error",
     "traceback": [
      "\u001b[0;31m---------------------------------------------------------------------------\u001b[0m",
      "\u001b[0;31mTypeError\u001b[0m                                 Traceback (most recent call last)",
      "Cell \u001b[0;32mIn[28], line 1\u001b[0m\n\u001b[0;32m----> 1\u001b[0m \u001b[43ml\u001b[49m\u001b[43m \u001b[49m\u001b[38;5;241;43m+\u001b[39;49m\u001b[43m \u001b[49m\u001b[38;5;241;43m5\u001b[39;49m\n",
      "\u001b[0;31mTypeError\u001b[0m: can only concatenate list (not \"int\") to list"
     ]
    }
   ],
   "source": [
    "l + 5"
   ]
  },
  {
   "cell_type": "code",
   "execution_count": 29,
   "id": "ef31dd8c-cc75-4656-98ed-63c143b3b3a2",
   "metadata": {},
   "outputs": [
    {
     "data": {
      "text/plain": [
       "[1,\n",
       " 345,\n",
       " 45.89,\n",
       " 'Vedita',\n",
       " True,\n",
       " (5+2j),\n",
       " 'pwskills',\n",
       " 'pwskills',\n",
       " 'pwskills',\n",
       " 1,\n",
       " 345,\n",
       " 45.89,\n",
       " 'Vedita',\n",
       " True,\n",
       " (5+2j),\n",
       " 'pwskills',\n",
       " 'pwskills',\n",
       " 'pwskills',\n",
       " 1,\n",
       " 345,\n",
       " 45.89,\n",
       " 'Vedita',\n",
       " True,\n",
       " (5+2j),\n",
       " 'pwskills',\n",
       " 'pwskills',\n",
       " 'pwskills',\n",
       " 1,\n",
       " 345,\n",
       " 45.89,\n",
       " 'Vedita',\n",
       " True,\n",
       " (5+2j),\n",
       " 'pwskills',\n",
       " 'pwskills',\n",
       " 'pwskills',\n",
       " 1,\n",
       " 345,\n",
       " 45.89,\n",
       " 'Vedita',\n",
       " True,\n",
       " (5+2j),\n",
       " 'pwskills',\n",
       " 'pwskills',\n",
       " 'pwskills']"
      ]
     },
     "execution_count": 29,
     "metadata": {},
     "output_type": "execute_result"
    }
   ],
   "source": [
    "l * 5"
   ]
  },
  {
   "cell_type": "code",
   "execution_count": 30,
   "id": "9d98059b-278a-4df3-8434-e4124b53a940",
   "metadata": {},
   "outputs": [
    {
     "ename": "TypeError",
     "evalue": "unsupported operand type(s) for /: 'list' and 'int'",
     "output_type": "error",
     "traceback": [
      "\u001b[0;31m---------------------------------------------------------------------------\u001b[0m",
      "\u001b[0;31mTypeError\u001b[0m                                 Traceback (most recent call last)",
      "Cell \u001b[0;32mIn[30], line 1\u001b[0m\n\u001b[0;32m----> 1\u001b[0m \u001b[43ml\u001b[49m\u001b[38;5;241;43m/\u001b[39;49m\u001b[38;5;241;43m5\u001b[39;49m\n",
      "\u001b[0;31mTypeError\u001b[0m: unsupported operand type(s) for /: 'list' and 'int'"
     ]
    }
   ],
   "source": [
    "l/5"
   ]
  },
  {
   "cell_type": "code",
   "execution_count": 31,
   "id": "7535e24a-6fe6-48f0-9968-124fa191939f",
   "metadata": {},
   "outputs": [
    {
     "ename": "TypeError",
     "evalue": "unsupported operand type(s) for -: 'list' and 'int'",
     "output_type": "error",
     "traceback": [
      "\u001b[0;31m---------------------------------------------------------------------------\u001b[0m",
      "\u001b[0;31mTypeError\u001b[0m                                 Traceback (most recent call last)",
      "Cell \u001b[0;32mIn[31], line 1\u001b[0m\n\u001b[0;32m----> 1\u001b[0m \u001b[43ml\u001b[49m\u001b[38;5;241;43m-\u001b[39;49m\u001b[38;5;241;43m3\u001b[39;49m\n",
      "\u001b[0;31mTypeError\u001b[0m: unsupported operand type(s) for -: 'list' and 'int'"
     ]
    }
   ],
   "source": [
    "l-3"
   ]
  },
  {
   "cell_type": "code",
   "execution_count": 4,
   "id": "9e98e0c0-cf0e-4347-b7bf-b3ed8acd4215",
   "metadata": {},
   "outputs": [
    {
     "data": {
      "text/plain": [
       "[1, 345, 45.89, 'Vedita', True, (5+2j), 3, 4, 5]"
      ]
     },
     "execution_count": 4,
     "metadata": {},
     "output_type": "execute_result"
    }
   ],
   "source": [
    "l1 = [3,4,5]\n",
    "l + l1"
   ]
  },
  {
   "cell_type": "code",
   "execution_count": 33,
   "id": "8136f3c7-294b-4c2e-977e-c2ef0acfa13d",
   "metadata": {},
   "outputs": [
    {
     "data": {
      "text/plain": [
       "[3, 4, 5, 3, 4, 5, 3, 4, 5]"
      ]
     },
     "execution_count": 33,
     "metadata": {},
     "output_type": "execute_result"
    }
   ],
   "source": [
    "l1 * 3"
   ]
  },
  {
   "cell_type": "code",
   "execution_count": 34,
   "id": "8471bcce-d329-453a-b630-96efcbb57f7b",
   "metadata": {},
   "outputs": [
    {
     "data": {
      "text/plain": [
       "9"
      ]
     },
     "execution_count": 34,
     "metadata": {},
     "output_type": "execute_result"
    }
   ],
   "source": [
    "len(l)"
   ]
  },
  {
   "cell_type": "code",
   "execution_count": 7,
   "id": "6b3a630e-d4f4-417d-93d7-3fa5c6fd249e",
   "metadata": {},
   "outputs": [
    {
     "name": "stdout",
     "output_type": "stream",
     "text": [
      "[1, 345, 45.89, 'Vedita', True, (5+2j), [3, 4, 5], [3, 4, 5], [3, 4, 5]]\n"
     ]
    }
   ],
   "source": [
    "l.append(l1)\n",
    "print(l)"
   ]
  },
  {
   "cell_type": "code",
   "execution_count": 8,
   "id": "e362fc7b-d00e-4dd6-bcb3-9954a2c4929e",
   "metadata": {},
   "outputs": [
    {
     "ename": "TypeError",
     "evalue": "'int' object is not iterable",
     "output_type": "error",
     "traceback": [
      "\u001b[0;31m---------------------------------------------------------------------------\u001b[0m",
      "\u001b[0;31mTypeError\u001b[0m                                 Traceback (most recent call last)",
      "Cell \u001b[0;32mIn[8], line 1\u001b[0m\n\u001b[0;32m----> 1\u001b[0m \u001b[43ml\u001b[49m\u001b[38;5;241;43m.\u001b[39;49m\u001b[43mextend\u001b[49m\u001b[43m(\u001b[49m\u001b[38;5;241;43m4\u001b[39;49m\u001b[43m)\u001b[49m\n",
      "\u001b[0;31mTypeError\u001b[0m: 'int' object is not iterable"
     ]
    }
   ],
   "source": [
    "l.extend(4)"
   ]
  },
  {
   "cell_type": "code",
   "execution_count": 9,
   "id": "88316226-2066-44ea-90bf-c2bea271e9fe",
   "metadata": {},
   "outputs": [],
   "source": [
    "l.extend(\"bhushan\")"
   ]
  },
  {
   "cell_type": "code",
   "execution_count": 11,
   "id": "ca63fa41-4000-4c9c-bce6-b39035fc4261",
   "metadata": {},
   "outputs": [
    {
     "name": "stdout",
     "output_type": "stream",
     "text": [
      "[1, 345, 45.89, 'Vedita', True, (5+2j), [3, 4, 5], [3, 4, 5], [3, 4, 5], 'b', 'h', 'u', 's', 'h', 'a', 'n']\n"
     ]
    }
   ],
   "source": [
    "print(l)\n",
    "l.append(9)"
   ]
  },
  {
   "cell_type": "code",
   "execution_count": 12,
   "id": "35d490a5-1f30-4f9f-918b-3cddd9e557e6",
   "metadata": {},
   "outputs": [
    {
     "name": "stdout",
     "output_type": "stream",
     "text": [
      "[1, 345, 45.89, 'Vedita', True, (5+2j), [3, 4, 5], [3, 4, 5], [3, 4, 5], 'b', 'h', 'u', 's', 'h', 'a', 'n', 9]\n"
     ]
    }
   ],
   "source": [
    "print(l)"
   ]
  },
  {
   "cell_type": "code",
   "execution_count": 13,
   "id": "5cf721a8-a208-4411-83b2-52be153bae49",
   "metadata": {},
   "outputs": [
    {
     "name": "stdout",
     "output_type": "stream",
     "text": [
      "[1, 345, 45.89, 'Vedita', True, (5+2j), [3, 4, 5], [3, 4, 5], [3, 4, 5], 'b', 'h', 'u', 's', 'h', 'a', 'n', 9, 3, 4, 5]\n"
     ]
    }
   ],
   "source": [
    "l.extend([3,4,5]) #unwraps the data and adds it to list\n",
    "print(l)"
   ]
  },
  {
   "cell_type": "code",
   "execution_count": 14,
   "id": "1816b617-6cf4-41cc-850e-cab9327fd62c",
   "metadata": {},
   "outputs": [
    {
     "name": "stdout",
     "output_type": "stream",
     "text": [
      "[1, 345, 45.89, 'Vedita', True, (5+2j), [3, 4, 5], [3, 4, 5], [3, 4, 5], 'b', 'h', 'u', 's', 'h', 'a', 'n', 9, 3, 4, 5, [3, 4, 5]]\n"
     ]
    }
   ],
   "source": [
    "l.append([3,4,5]) #adds the data as it is directly as an element\n",
    "print(l)"
   ]
  },
  {
   "cell_type": "code",
   "execution_count": 15,
   "id": "4cfa70a3-f773-4ae1-ba77-e3cf817c55dc",
   "metadata": {},
   "outputs": [],
   "source": [
    "l1 = [3,4,5]"
   ]
  },
  {
   "cell_type": "code",
   "execution_count": 16,
   "id": "a0b58c04-4694-4e28-923c-cd30477881b4",
   "metadata": {},
   "outputs": [],
   "source": [
    "l1.insert(1,\"vedita\")"
   ]
  },
  {
   "cell_type": "code",
   "execution_count": 17,
   "id": "f42eae52-966b-412a-a8d4-9ccec24c2d5e",
   "metadata": {},
   "outputs": [
    {
     "name": "stdout",
     "output_type": "stream",
     "text": [
      "[3, 'vedita', 4, 5]\n"
     ]
    }
   ],
   "source": [
    "print(l1)"
   ]
  },
  {
   "cell_type": "code",
   "execution_count": 18,
   "id": "1e7d69d9-bc7e-4684-9735-ba1b8f49bbd4",
   "metadata": {},
   "outputs": [],
   "source": [
    "l1.insert(-1,[8,9,0])"
   ]
  },
  {
   "cell_type": "code",
   "execution_count": 19,
   "id": "e6c995da-ed96-41fb-86e6-f4eba1feca78",
   "metadata": {},
   "outputs": [
    {
     "name": "stdout",
     "output_type": "stream",
     "text": [
      "[3, 'vedita', 4, [8, 9, 0], 5]\n"
     ]
    }
   ],
   "source": [
    "print(l1)"
   ]
  },
  {
   "cell_type": "code",
   "execution_count": 20,
   "id": "374b2cb3-943b-49f1-91e9-566264cf0234",
   "metadata": {},
   "outputs": [
    {
     "data": {
      "text/plain": [
       "[3, 'vedita', 4, [8, 9, 0]]"
      ]
     },
     "execution_count": 20,
     "metadata": {},
     "output_type": "execute_result"
    }
   ],
   "source": [
    "l1.pop()\n",
    "l1"
   ]
  },
  {
   "cell_type": "code",
   "execution_count": 21,
   "id": "47ddc37e-d65a-4f3b-aa5a-cfaa2d7bf259",
   "metadata": {},
   "outputs": [
    {
     "data": {
      "text/plain": [
       "[3, 'vedita', [8, 9, 0]]"
      ]
     },
     "execution_count": 21,
     "metadata": {},
     "output_type": "execute_result"
    }
   ],
   "source": [
    "l1.pop(2) #removes the element at specified index \n",
    "l1"
   ]
  },
  {
   "cell_type": "code",
   "execution_count": 22,
   "id": "50c74161-e740-45d6-b4c5-7d247ee54128",
   "metadata": {},
   "outputs": [
    {
     "data": {
      "text/plain": [
       "['vedita', [8, 9, 0]]"
      ]
     },
     "execution_count": 22,
     "metadata": {},
     "output_type": "execute_result"
    }
   ],
   "source": [
    "l1.remove(3) #removes first occurrence of number\n",
    "l1"
   ]
  },
  {
   "cell_type": "code",
   "execution_count": 23,
   "id": "18a29ce2-ba84-4384-8742-dda748af3ac1",
   "metadata": {},
   "outputs": [
    {
     "ename": "ValueError",
     "evalue": "list.remove(x): x not in list",
     "output_type": "error",
     "traceback": [
      "\u001b[0;31m---------------------------------------------------------------------------\u001b[0m",
      "\u001b[0;31mValueError\u001b[0m                                Traceback (most recent call last)",
      "Cell \u001b[0;32mIn[23], line 1\u001b[0m\n\u001b[0;32m----> 1\u001b[0m \u001b[43ml1\u001b[49m\u001b[38;5;241;43m.\u001b[39;49m\u001b[43mremove\u001b[49m\u001b[43m(\u001b[49m\u001b[38;5;241;43m8\u001b[39;49m\u001b[43m)\u001b[49m\n\u001b[1;32m      2\u001b[0m l1\n",
      "\u001b[0;31mValueError\u001b[0m: list.remove(x): x not in list"
     ]
    }
   ],
   "source": [
    "l1.remove(8)\n",
    "l1"
   ]
  },
  {
   "cell_type": "code",
   "execution_count": 24,
   "id": "d39ad8d1-6f00-4974-8e1e-7da387a80b04",
   "metadata": {},
   "outputs": [
    {
     "ename": "ValueError",
     "evalue": "list.remove(x): x not in list",
     "output_type": "error",
     "traceback": [
      "\u001b[0;31m---------------------------------------------------------------------------\u001b[0m",
      "\u001b[0;31mValueError\u001b[0m                                Traceback (most recent call last)",
      "Cell \u001b[0;32mIn[24], line 1\u001b[0m\n\u001b[0;32m----> 1\u001b[0m \u001b[43ml1\u001b[49m\u001b[38;5;241;43m.\u001b[39;49m\u001b[43mremove\u001b[49m\u001b[43m(\u001b[49m\u001b[43m[\u001b[49m\u001b[38;5;241;43m8\u001b[39;49m\u001b[43m,\u001b[49m\u001b[38;5;241;43m9\u001b[39;49m\u001b[43m]\u001b[49m\u001b[43m)\u001b[49m\n",
      "\u001b[0;31mValueError\u001b[0m: list.remove(x): x not in list"
     ]
    }
   ],
   "source": [
    "l1.remove([8,9])"
   ]
  },
  {
   "cell_type": "code",
   "execution_count": 25,
   "id": "47ce2548-e4f8-4612-bfd7-34975362d646",
   "metadata": {},
   "outputs": [],
   "source": [
    "l1.remove([8,9,0])"
   ]
  },
  {
   "cell_type": "code",
   "execution_count": 26,
   "id": "79a645b2-8e66-4629-bf7f-64ecc6bca4bd",
   "metadata": {},
   "outputs": [
    {
     "data": {
      "text/plain": [
       "['vedita']"
      ]
     },
     "execution_count": 26,
     "metadata": {},
     "output_type": "execute_result"
    }
   ],
   "source": [
    "l1"
   ]
  },
  {
   "cell_type": "code",
   "execution_count": 27,
   "id": "7f27925d-03dd-4a10-bca8-c8b9b3b81596",
   "metadata": {},
   "outputs": [],
   "source": [
    "l1.append([8,9,0])"
   ]
  },
  {
   "cell_type": "code",
   "execution_count": 28,
   "id": "655f66bf-60cf-4757-8de4-47a56e6feaa4",
   "metadata": {},
   "outputs": [
    {
     "data": {
      "text/plain": [
       "['vedita', [0, 9, 8], [8, 9, 0]]"
      ]
     },
     "execution_count": 28,
     "metadata": {},
     "output_type": "execute_result"
    }
   ],
   "source": [
    "l1.insert(-1,[0,9,8])\n",
    "l1"
   ]
  },
  {
   "cell_type": "code",
   "execution_count": 30,
   "id": "aca2567a-5b18-4443-a2cf-62feaf334678",
   "metadata": {},
   "outputs": [
    {
     "data": {
      "text/plain": [
       "['vedita', [0, 8], [8, 9, 0]]"
      ]
     },
     "execution_count": 30,
     "metadata": {},
     "output_type": "execute_result"
    }
   ],
   "source": [
    "l1[1].remove(9)\n",
    "l1"
   ]
  },
  {
   "cell_type": "code",
   "execution_count": 31,
   "id": "4d1f19eb-4bea-4309-9b38-ba927dd9133b",
   "metadata": {},
   "outputs": [
    {
     "ename": "AttributeError",
     "evalue": "'str' object has no attribute 'remove'",
     "output_type": "error",
     "traceback": [
      "\u001b[0;31m---------------------------------------------------------------------------\u001b[0m",
      "\u001b[0;31mAttributeError\u001b[0m                            Traceback (most recent call last)",
      "Cell \u001b[0;32mIn[31], line 1\u001b[0m\n\u001b[0;32m----> 1\u001b[0m \u001b[43ml1\u001b[49m\u001b[43m[\u001b[49m\u001b[38;5;241;43m0\u001b[39;49m\u001b[43m]\u001b[49m\u001b[38;5;241;43m.\u001b[39;49m\u001b[43mremove\u001b[49m(\u001b[38;5;124m'\u001b[39m\u001b[38;5;124mit\u001b[39m\u001b[38;5;124m'\u001b[39m)\n",
      "\u001b[0;31mAttributeError\u001b[0m: 'str' object has no attribute 'remove'"
     ]
    }
   ],
   "source": [
    "l1[0].remove('it') #string is immutable"
   ]
  },
  {
   "cell_type": "code",
   "execution_count": 39,
   "id": "7c3e0503-c1c7-4e7f-8686-4443d0189981",
   "metadata": {},
   "outputs": [
    {
     "data": {
      "text/plain": [
       "[[8, 9, 0], [0, 8], 'vedita']"
      ]
     },
     "execution_count": 39,
     "metadata": {},
     "output_type": "execute_result"
    }
   ],
   "source": [
    "l1[::-1] # does not re-assign the reversal on the list"
   ]
  },
  {
   "cell_type": "code",
   "execution_count": 37,
   "id": "d0a5e312-ddcf-4e51-9db3-71d7e11be06b",
   "metadata": {},
   "outputs": [
    {
     "data": {
      "text/plain": [
       "['vedita', [0, 8], [8, 9, 0]]"
      ]
     },
     "execution_count": 37,
     "metadata": {},
     "output_type": "execute_result"
    }
   ],
   "source": [
    "l1.reverse() #permanent reverse of the same list\n",
    "l1"
   ]
  },
  {
   "cell_type": "code",
   "execution_count": 40,
   "id": "3196a5cc-6313-4c04-bccf-340fdb73f82f",
   "metadata": {},
   "outputs": [
    {
     "data": {
      "text/plain": [
       "['vedita', [0, 8], [8, 9, 0]]"
      ]
     },
     "execution_count": 40,
     "metadata": {},
     "output_type": "execute_result"
    }
   ],
   "source": [
    "l1"
   ]
  },
  {
   "cell_type": "code",
   "execution_count": 41,
   "id": "3a057bef-22a5-4c75-bf03-378adffab822",
   "metadata": {},
   "outputs": [
    {
     "ename": "TypeError",
     "evalue": "'<' not supported between instances of 'list' and 'str'",
     "output_type": "error",
     "traceback": [
      "\u001b[0;31m---------------------------------------------------------------------------\u001b[0m",
      "\u001b[0;31mTypeError\u001b[0m                                 Traceback (most recent call last)",
      "Cell \u001b[0;32mIn[41], line 1\u001b[0m\n\u001b[0;32m----> 1\u001b[0m \u001b[43ml1\u001b[49m\u001b[38;5;241;43m.\u001b[39;49m\u001b[43msort\u001b[49m\u001b[43m(\u001b[49m\u001b[43m)\u001b[49m\n",
      "\u001b[0;31mTypeError\u001b[0m: '<' not supported between instances of 'list' and 'str'"
     ]
    }
   ],
   "source": [
    "l1.sort()"
   ]
  },
  {
   "cell_type": "code",
   "execution_count": 43,
   "id": "bc69c6ef-7ec7-4d74-8fb2-935a48eb1759",
   "metadata": {},
   "outputs": [
    {
     "data": {
      "text/plain": [
       "[0, 3, 4, 7, 8, 9, 66, 95]"
      ]
     },
     "execution_count": 43,
     "metadata": {},
     "output_type": "execute_result"
    }
   ],
   "source": [
    "l2 = [3,4,95,66,7,8,9,0]\n",
    "l2.sort()\n",
    "l2"
   ]
  },
  {
   "cell_type": "code",
   "execution_count": 44,
   "id": "8de5da2c-78c7-4f9d-826f-a15808aaf7c8",
   "metadata": {},
   "outputs": [
    {
     "ename": "TypeError",
     "evalue": "'<' not supported between instances of 'list' and 'int'",
     "output_type": "error",
     "traceback": [
      "\u001b[0;31m---------------------------------------------------------------------------\u001b[0m",
      "\u001b[0;31mTypeError\u001b[0m                                 Traceback (most recent call last)",
      "Cell \u001b[0;32mIn[44], line 2\u001b[0m\n\u001b[1;32m      1\u001b[0m l3 \u001b[38;5;241m=\u001b[39m [\u001b[38;5;241m2\u001b[39m,\u001b[38;5;241m3\u001b[39m,[\u001b[38;5;241m1\u001b[39m,\u001b[38;5;241m2\u001b[39m,\u001b[38;5;241m3\u001b[39m]]\n\u001b[0;32m----> 2\u001b[0m \u001b[43ml3\u001b[49m\u001b[38;5;241;43m.\u001b[39;49m\u001b[43msort\u001b[49m\u001b[43m(\u001b[49m\u001b[43m)\u001b[49m\n\u001b[1;32m      3\u001b[0m l3\n",
      "\u001b[0;31mTypeError\u001b[0m: '<' not supported between instances of 'list' and 'int'"
     ]
    }
   ],
   "source": [
    "l3 = [2,3,[1,2,3]]\n",
    "l3.sort()\n",
    "l3\n"
   ]
  },
  {
   "cell_type": "code",
   "execution_count": 45,
   "id": "846c0061-4edd-4ab7-89af-b5d766b19bd3",
   "metadata": {},
   "outputs": [
    {
     "ename": "TypeError",
     "evalue": "'<' not supported between instances of 'str' and 'int'",
     "output_type": "error",
     "traceback": [
      "\u001b[0;31m---------------------------------------------------------------------------\u001b[0m",
      "\u001b[0;31mTypeError\u001b[0m                                 Traceback (most recent call last)",
      "Cell \u001b[0;32mIn[45], line 2\u001b[0m\n\u001b[1;32m      1\u001b[0m l4 \u001b[38;5;241m=\u001b[39m [\u001b[38;5;241m2\u001b[39m,\u001b[38;5;241m5\u001b[39m,\u001b[38;5;124m\"\u001b[39m\u001b[38;5;124mvedita\u001b[39m\u001b[38;5;124m\"\u001b[39m,\u001b[38;5;124m'\u001b[39m\u001b[38;5;124mc\u001b[39m\u001b[38;5;124m'\u001b[39m]\n\u001b[0;32m----> 2\u001b[0m \u001b[43ml4\u001b[49m\u001b[38;5;241;43m.\u001b[39;49m\u001b[43msort\u001b[49m\u001b[43m(\u001b[49m\u001b[43m)\u001b[49m\n\u001b[1;32m      3\u001b[0m l4\n",
      "\u001b[0;31mTypeError\u001b[0m: '<' not supported between instances of 'str' and 'int'"
     ]
    }
   ],
   "source": [
    "l4 = [2,5,\"vedita\",'c']\n",
    "l4.sort()\n",
    "l4"
   ]
  },
  {
   "cell_type": "code",
   "execution_count": 46,
   "id": "a615ab82-6d3f-49de-a6d0-725e60d71a18",
   "metadata": {},
   "outputs": [
    {
     "ename": "TypeError",
     "evalue": "'<' not supported between instances of 'str' and 'int'",
     "output_type": "error",
     "traceback": [
      "\u001b[0;31m---------------------------------------------------------------------------\u001b[0m",
      "\u001b[0;31mTypeError\u001b[0m                                 Traceback (most recent call last)",
      "Cell \u001b[0;32mIn[46], line 2\u001b[0m\n\u001b[1;32m      1\u001b[0m l4 \u001b[38;5;241m=\u001b[39m [\u001b[38;5;241m2\u001b[39m,\u001b[38;5;241m5\u001b[39m,\u001b[38;5;124m'\u001b[39m\u001b[38;5;124mc\u001b[39m\u001b[38;5;124m'\u001b[39m]\n\u001b[0;32m----> 2\u001b[0m \u001b[43ml4\u001b[49m\u001b[38;5;241;43m.\u001b[39;49m\u001b[43msort\u001b[49m\u001b[43m(\u001b[49m\u001b[43m)\u001b[49m\n\u001b[1;32m      3\u001b[0m l4\n",
      "\u001b[0;31mTypeError\u001b[0m: '<' not supported between instances of 'str' and 'int'"
     ]
    }
   ],
   "source": [
    "l4 = [2,5,'c']\n",
    "l4.sort()\n",
    "l4"
   ]
  },
  {
   "cell_type": "code",
   "execution_count": 48,
   "id": "c3fec928-dcc1-4d61-a7e9-fd4b36fb2c77",
   "metadata": {},
   "outputs": [
    {
     "data": {
      "text/plain": [
       "['Data Science', 'DataScience', 'PwSkills', 'Vedita']"
      ]
     },
     "execution_count": 48,
     "metadata": {},
     "output_type": "execute_result"
    }
   ],
   "source": [
    "l4 = [\"Vedita\", \"Data Science\", \"DataScience\", \"PwSkills\"]\n",
    "l4.sort()\n",
    "l4"
   ]
  },
  {
   "cell_type": "code",
   "execution_count": 49,
   "id": "a04b40f8-8a9d-4e0e-8d9d-49c08d0810e2",
   "metadata": {},
   "outputs": [],
   "source": [
    "l4.sort(reverse=True)"
   ]
  },
  {
   "cell_type": "code",
   "execution_count": 50,
   "id": "3864941d-cfed-4bd1-afd6-da7e1bbbfa55",
   "metadata": {},
   "outputs": [
    {
     "data": {
      "text/plain": [
       "['Vedita', 'PwSkills', 'DataScience', 'Data Science']"
      ]
     },
     "execution_count": 50,
     "metadata": {},
     "output_type": "execute_result"
    }
   ],
   "source": [
    "l4"
   ]
  },
  {
   "cell_type": "code",
   "execution_count": 52,
   "id": "2a3ca295-6e6b-4f2f-904d-cd94ec67c6c9",
   "metadata": {},
   "outputs": [
    {
     "data": {
      "text/plain": [
       "2"
      ]
     },
     "execution_count": 52,
     "metadata": {},
     "output_type": "execute_result"
    }
   ],
   "source": [
    "l4.index(\"DataScience\")"
   ]
  },
  {
   "cell_type": "code",
   "execution_count": 53,
   "id": "875ef077-9d51-4621-a989-b1dc96c93bac",
   "metadata": {},
   "outputs": [
    {
     "data": {
      "text/plain": [
       "0"
      ]
     },
     "execution_count": 53,
     "metadata": {},
     "output_type": "execute_result"
    }
   ],
   "source": [
    "l4.count(7)"
   ]
  },
  {
   "cell_type": "code",
   "execution_count": 54,
   "id": "a8884487-d07a-4650-b39e-b20010445e42",
   "metadata": {},
   "outputs": [
    {
     "ename": "TypeError",
     "evalue": "'str' object does not support item assignment",
     "output_type": "error",
     "traceback": [
      "\u001b[0;31m---------------------------------------------------------------------------\u001b[0m",
      "\u001b[0;31mTypeError\u001b[0m                                 Traceback (most recent call last)",
      "Cell \u001b[0;32mIn[54], line 2\u001b[0m\n\u001b[1;32m      1\u001b[0m s \u001b[38;5;241m=\u001b[39m \u001b[38;5;124m\"\u001b[39m\u001b[38;5;124msudh\u001b[39m\u001b[38;5;124m\"\u001b[39m\n\u001b[0;32m----> 2\u001b[0m \u001b[43ms\u001b[49m\u001b[43m[\u001b[49m\u001b[38;5;241;43m0\u001b[39;49m\u001b[43m]\u001b[49m \u001b[38;5;241m=\u001b[39m \u001b[38;5;124m'\u001b[39m\u001b[38;5;124mb\u001b[39m\u001b[38;5;124m'\u001b[39m\n",
      "\u001b[0;31mTypeError\u001b[0m: 'str' object does not support item assignment"
     ]
    }
   ],
   "source": [
    "s = \"sudh\"\n",
    "s[0] = 'b'"
   ]
  },
  {
   "cell_type": "code",
   "execution_count": 55,
   "id": "36bc5347-5ca2-4f65-b351-9db67fd0b602",
   "metadata": {},
   "outputs": [
    {
     "data": {
      "text/plain": [
       "[30, 4, 5, 6]"
      ]
     },
     "execution_count": 55,
     "metadata": {},
     "output_type": "execute_result"
    }
   ],
   "source": [
    "l5 = [3,4,5,6]\n",
    "l5[0] = 30\n",
    "l5"
   ]
  },
  {
   "cell_type": "code",
   "execution_count": 56,
   "id": "6eec14de-b1b2-43fa-b4c2-c1c74c8620cf",
   "metadata": {},
   "outputs": [],
   "source": [
    "tup = (1, True, [8,9,0], (7,8), 45.90, \"vedita\")"
   ]
  },
  {
   "cell_type": "code",
   "execution_count": 59,
   "id": "5891e096-1dc1-4993-bd17-01a10faa0432",
   "metadata": {},
   "outputs": [
    {
     "data": {
      "text/plain": [
       "tuple"
      ]
     },
     "execution_count": 59,
     "metadata": {},
     "output_type": "execute_result"
    }
   ],
   "source": [
    "tup\n",
    "type(tup)"
   ]
  },
  {
   "cell_type": "code",
   "execution_count": 60,
   "id": "eed74d68-f666-4d94-b429-6fc19b2a5909",
   "metadata": {},
   "outputs": [
    {
     "data": {
      "text/plain": [
       "('vedita', 45.9, (7, 8), [8, 9, 0], True, 1)"
      ]
     },
     "execution_count": 60,
     "metadata": {},
     "output_type": "execute_result"
    }
   ],
   "source": [
    "tup[::-1]"
   ]
  },
  {
   "cell_type": "code",
   "execution_count": 58,
   "id": "7919d914-1d54-4277-a1f7-4707e6e8f4a2",
   "metadata": {},
   "outputs": [
    {
     "ename": "TypeError",
     "evalue": "'tuple' object does not support item assignment",
     "output_type": "error",
     "traceback": [
      "\u001b[0;31m---------------------------------------------------------------------------\u001b[0m",
      "\u001b[0;31mTypeError\u001b[0m                                 Traceback (most recent call last)",
      "Cell \u001b[0;32mIn[58], line 1\u001b[0m\n\u001b[0;32m----> 1\u001b[0m \u001b[43mtup\u001b[49m\u001b[43m[\u001b[49m\u001b[38;5;241;43m1\u001b[39;49m\u001b[43m]\u001b[49m \u001b[38;5;241m=\u001b[39m \u001b[38;5;28;01mFalse\u001b[39;00m\n",
      "\u001b[0;31mTypeError\u001b[0m: 'tuple' object does not support item assignment"
     ]
    }
   ],
   "source": [
    "tup[1] = False"
   ]
  },
  {
   "cell_type": "code",
   "execution_count": 61,
   "id": "198e2d50-3155-4265-a826-4daf9bb11935",
   "metadata": {},
   "outputs": [
    {
     "ename": "TypeError",
     "evalue": "'tuple' object does not support item assignment",
     "output_type": "error",
     "traceback": [
      "\u001b[0;31m---------------------------------------------------------------------------\u001b[0m",
      "\u001b[0;31mTypeError\u001b[0m                                 Traceback (most recent call last)",
      "Cell \u001b[0;32mIn[61], line 1\u001b[0m\n\u001b[0;32m----> 1\u001b[0m \u001b[43mtup\u001b[49m\u001b[43m[\u001b[49m\u001b[38;5;241;43m3\u001b[39;49m\u001b[43m]\u001b[49m\u001b[43m[\u001b[49m\u001b[38;5;241;43m0\u001b[39;49m\u001b[43m]\u001b[49m\u001b[38;5;241m=\u001b[39m\u001b[38;5;241m-\u001b[39m\u001b[38;5;241m1\u001b[39m\n",
      "\u001b[0;31mTypeError\u001b[0m: 'tuple' object does not support item assignment"
     ]
    }
   ],
   "source": [
    "tup[3][0]=-1"
   ]
  },
  {
   "cell_type": "code",
   "execution_count": 63,
   "id": "3dec19bc-8d37-47b2-a5c0-11f84ad4fd11",
   "metadata": {},
   "outputs": [
    {
     "data": {
      "text/plain": [
       "6"
      ]
     },
     "execution_count": 63,
     "metadata": {},
     "output_type": "execute_result"
    }
   ],
   "source": [
    "len(tup)"
   ]
  },
  {
   "cell_type": "code",
   "execution_count": 64,
   "id": "88dc753e-e602-46e3-aec1-f84e3c5fd41e",
   "metadata": {},
   "outputs": [
    {
     "data": {
      "text/plain": [
       "2"
      ]
     },
     "execution_count": 64,
     "metadata": {},
     "output_type": "execute_result"
    }
   ],
   "source": [
    "tup.count(True)"
   ]
  },
  {
   "cell_type": "code",
   "execution_count": 68,
   "id": "15f575c5-b31b-4eff-ac46-7c4db37d5a04",
   "metadata": {
    "jp-MarkdownHeadingCollapsed": true,
    "tags": []
   },
   "outputs": [
    {
     "data": {
      "text/plain": [
       "4"
      ]
     },
     "execution_count": 68,
     "metadata": {},
     "output_type": "execute_result"
    }
   ],
   "source": [
    "tup.index(45.9)"
   ]
  },
  {
   "cell_type": "code",
   "execution_count": 65,
   "id": "36ec9ff2-052d-456b-ab74-f01e78ecd832",
   "metadata": {},
   "outputs": [
    {
     "data": {
      "text/plain": [
       "dict"
      ]
     },
     "execution_count": 65,
     "metadata": {},
     "output_type": "execute_result"
    }
   ],
   "source": [
    "s1 = {}\n",
    "type(s1)"
   ]
  },
  {
   "cell_type": "markdown",
   "id": "ec9985b3-09c0-4e46-b378-4d5eeceea6b3",
   "metadata": {
    "tags": []
   },
   "source": [
    "s1 = {1,2,3,4,45.43,\"sudh\",(3,4,5)}\n",
    "type(s1)"
   ]
  },
  {
   "cell_type": "code",
   "execution_count": 66,
   "id": "d3983949-b9fa-4154-a9f7-1a3c9e51f1b6",
   "metadata": {},
   "outputs": [
    {
     "data": {
      "text/plain": [
       "set"
      ]
     },
     "execution_count": 66,
     "metadata": {},
     "output_type": "execute_result"
    }
   ],
   "source": [
    "s1 = {1,2,3,4,45.43,\"sudh\",(3,4,5)} \n",
    "type(s1)"
   ]
  },
  {
   "cell_type": "code",
   "execution_count": 67,
   "id": "e6be5539-9e63-47e3-923b-3d0ae1b3bdad",
   "metadata": {},
   "outputs": [
    {
     "data": {
      "text/plain": [
       "{(3, 4, 5), 1, 2, 3, 34, 4, 45.43, 'sudh'}"
      ]
     },
     "execution_count": 67,
     "metadata": {},
     "output_type": "execute_result"
    }
   ],
   "source": [
    "s1 = {1,2,3,2,34,4,4,45.43,\"sudh\",(3,4,5)} \n",
    "s1"
   ]
  },
  {
   "cell_type": "code",
   "execution_count": 69,
   "id": "5aacd693-f61f-4085-a1d7-eec665a56d45",
   "metadata": {},
   "outputs": [
    {
     "ename": "TypeError",
     "evalue": "unhashable type: 'list'",
     "output_type": "error",
     "traceback": [
      "\u001b[0;31m---------------------------------------------------------------------------\u001b[0m",
      "\u001b[0;31mTypeError\u001b[0m                                 Traceback (most recent call last)",
      "Cell \u001b[0;32mIn[69], line 1\u001b[0m\n\u001b[0;32m----> 1\u001b[0m s1 \u001b[38;5;241m=\u001b[39m {\u001b[38;5;241m1\u001b[39m,\u001b[38;5;241m2\u001b[39m,\u001b[38;5;241m3\u001b[39m,\u001b[38;5;241m2\u001b[39m,\u001b[38;5;241m34\u001b[39m,\u001b[38;5;241m4\u001b[39m,\u001b[38;5;241m4\u001b[39m,\u001b[38;5;241m45.43\u001b[39m,\u001b[38;5;124m\"\u001b[39m\u001b[38;5;124msudh\u001b[39m\u001b[38;5;124m\"\u001b[39m,(\u001b[38;5;241m3\u001b[39m,\u001b[38;5;241m4\u001b[39m,\u001b[38;5;241m5\u001b[39m),[\u001b[38;5;241m1\u001b[39m,\u001b[38;5;241m2\u001b[39m,\u001b[38;5;241m3\u001b[39m]} \n\u001b[1;32m      2\u001b[0m s1\n",
      "\u001b[0;31mTypeError\u001b[0m: unhashable type: 'list'"
     ]
    }
   ],
   "source": [
    "s1 = {1,2,3,2,34,4,4,45.43,\"sudh\",(3,4,5),[1,2,3]} \n",
    "s1"
   ]
  },
  {
   "cell_type": "code",
   "execution_count": 70,
   "id": "998f8699-9f37-4148-9c7a-868cb91f92a6",
   "metadata": {},
   "outputs": [
    {
     "ename": "TypeError",
     "evalue": "unhashable type: 'list'",
     "output_type": "error",
     "traceback": [
      "\u001b[0;31m---------------------------------------------------------------------------\u001b[0m",
      "\u001b[0;31mTypeError\u001b[0m                                 Traceback (most recent call last)",
      "Cell \u001b[0;32mIn[70], line 1\u001b[0m\n\u001b[0;32m----> 1\u001b[0m \u001b[38;5;28;43mset\u001b[39;49m\u001b[43m(\u001b[49m\u001b[43ml1\u001b[49m\u001b[43m)\u001b[49m\n",
      "\u001b[0;31mTypeError\u001b[0m: unhashable type: 'list'"
     ]
    }
   ],
   "source": [
    "set()"
   ]
  },
  {
   "cell_type": "code",
   "execution_count": 71,
   "id": "3d3bc793-e7d8-4cbe-897b-de46d2aee138",
   "metadata": {},
   "outputs": [],
   "source": [
    "s1.add(999)"
   ]
  },
  {
   "cell_type": "code",
   "execution_count": 72,
   "id": "012021c6-abd9-449f-befd-c6a7843cb67d",
   "metadata": {},
   "outputs": [
    {
     "data": {
      "text/plain": [
       "{(3, 4, 5), 1, 2, 3, 34, 4, 45.43, 999, 'sudh'}"
      ]
     },
     "execution_count": 72,
     "metadata": {},
     "output_type": "execute_result"
    }
   ],
   "source": [
    "s1"
   ]
  },
  {
   "cell_type": "code",
   "execution_count": 73,
   "id": "2424aa8b-8eaf-4cea-9058-6c2bf47c54c3",
   "metadata": {},
   "outputs": [],
   "source": [
    "s1.remove(2)"
   ]
  },
  {
   "cell_type": "code",
   "execution_count": 74,
   "id": "556f8609-0cd6-4b2b-bdbe-319c8a6278c9",
   "metadata": {},
   "outputs": [
    {
     "data": {
      "text/plain": [
       "{(3, 4, 5), 1, 3, 34, 4, 45.43, 999, 'sudh'}"
      ]
     },
     "execution_count": 74,
     "metadata": {},
     "output_type": "execute_result"
    }
   ],
   "source": [
    "s1"
   ]
  },
  {
   "cell_type": "code",
   "execution_count": 1,
   "id": "4531f7bc-6a54-4e24-9e42-9eb3b66e63b1",
   "metadata": {},
   "outputs": [
    {
     "name": "stdout",
     "output_type": "stream",
     "text": [
      "{'key': 'vedita'}\n",
      "<class 'dict'>\n"
     ]
    }
   ],
   "source": [
    "#key should always be unique\n",
    "#key can be any combonation of alpha numeric,booleand4[True\n",
    "#special characters not allowwed for key\n",
    "#value can be boolean, string, int float, complex number, list, set, tuple, \n",
    "#another dictionary and so on.\n",
    "d = {'key':'vedita'}\n",
    "print(d)\n",
    "print(type(d))"
   ]
  },
  {
   "cell_type": "code",
   "execution_count": 2,
   "id": "fba65a32-ec07-4a09-9624-9c9944b3cbe3",
   "metadata": {},
   "outputs": [
    {
     "ename": "SyntaxError",
     "evalue": "':' expected after dictionary key (4011780166.py, line 1)",
     "output_type": "error",
     "traceback": [
      "\u001b[0;36m  Cell \u001b[0;32mIn[2], line 1\u001b[0;36m\u001b[0m\n\u001b[0;31m    d2 = {\"name\":\"vedita\",_age=89}\u001b[0m\n\u001b[0m                             ^\u001b[0m\n\u001b[0;31mSyntaxError\u001b[0m\u001b[0;31m:\u001b[0m ':' expected after dictionary key\n"
     ]
    }
   ],
   "source": [
    "d2 = {\"name\":\"vedita\",_age=89}"
   ]
  },
  {
   "cell_type": "code",
   "execution_count": 5,
   "id": "03f5f6ce-0f1b-4bea-9897-eaa5b4351966",
   "metadata": {},
   "outputs": [
    {
     "data": {
      "text/plain": [
       "{234: 'vedita', 'age': 89}"
      ]
     },
     "execution_count": 5,
     "metadata": {},
     "output_type": "execute_result"
    }
   ],
   "source": [
    "d3 = {234:\"vedita\",'age':89}\n",
    "d3"
   ]
  },
  {
   "cell_type": "code",
   "execution_count": 6,
   "id": "8d2cc126-eaef-42d9-bef6-09f92f4b824b",
   "metadata": {},
   "outputs": [
    {
     "data": {
      "text/plain": [
       "{True: 'lalala'}"
      ]
     },
     "execution_count": 6,
     "metadata": {},
     "output_type": "execute_result"
    }
   ],
   "source": [
    "d4 = {True:\"lalala\"}\n",
    "d4"
   ]
  },
  {
   "cell_type": "code",
   "execution_count": 8,
   "id": "0b47ffe8-bdc6-4fd8-9f7a-afde4ccb0987",
   "metadata": {},
   "outputs": [
    {
     "name": "stdout",
     "output_type": "stream",
     "text": [
      "lalala\n"
     ]
    },
    {
     "data": {
      "text/plain": [
       "'lalala'"
      ]
     },
     "execution_count": 8,
     "metadata": {},
     "output_type": "execute_result"
    }
   ],
   "source": [
    "print(d4[True])\n",
    "d4[1] #true stored as 1 intrnally"
   ]
  },
  {
   "cell_type": "code",
   "execution_count": 9,
   "id": "51a63bed-9124-4da7-96b2-3a283edbcffe",
   "metadata": {},
   "outputs": [
    {
     "data": {
      "text/plain": [
       "'bhushan'"
      ]
     },
     "execution_count": 9,
     "metadata": {},
     "output_type": "execute_result"
    }
   ],
   "source": [
    "d5 = {'name':'vedita',\n",
    "      'age':22,\n",
    "      'name':'bhushan'\n",
    "     }\n",
    "d5['name'] #key should always be unique, if not, value is overriden."
   ]
  },
  {
   "cell_type": "code",
   "execution_count": 3,
   "id": "508be234-85ce-423d-b3c0-cbaeb810da38",
   "metadata": {},
   "outputs": [],
   "source": [
    "d6 = {\"date\":{28,12,14}, \"name\":\"pwskills\",\"assignment\":[1,2,3,4],\"class_time\":(12,1,2,3), \"rating\":{\"web_dev\":5,\"data_science\":8,\"dsa\":6}}"
   ]
  },
  {
   "cell_type": "code",
   "execution_count": 4,
   "id": "76ddfc03-da97-46cb-99b3-eca12a0f4226",
   "metadata": {},
   "outputs": [
    {
     "data": {
      "text/plain": [
       "{'date': {12, 14, 28},\n",
       " 'name': 'pwskills',\n",
       " 'assignment': [1, 2, 3, 4],\n",
       " 'class_time': (12, 1, 2, 3),\n",
       " 'rating': {'web_dev': 5, 'data_science': 8, 'dsa': 6}}"
      ]
     },
     "execution_count": 4,
     "metadata": {},
     "output_type": "execute_result"
    }
   ],
   "source": [
    "d6"
   ]
  },
  {
   "cell_type": "code",
   "execution_count": 6,
   "id": "200dd0d5-ff0e-45f0-9932-8881444e479d",
   "metadata": {},
   "outputs": [
    {
     "data": {
      "text/plain": [
       "8"
      ]
     },
     "execution_count": 6,
     "metadata": {},
     "output_type": "execute_result"
    }
   ],
   "source": [
    "d6[\"rating\"][\"data_science\"]"
   ]
  },
  {
   "cell_type": "code",
   "execution_count": 7,
   "id": "e6479d00-557a-4c71-8ac9-05ac6bfd91e2",
   "metadata": {},
   "outputs": [],
   "source": [
    "d6['mentor'] = ['vedita','bhushan','purva','durga']"
   ]
  },
  {
   "cell_type": "code",
   "execution_count": 8,
   "id": "4261b3c3-c130-4cd0-a85b-b93d80793f97",
   "metadata": {},
   "outputs": [
    {
     "data": {
      "text/plain": [
       "{'date': {12, 14, 28},\n",
       " 'name': 'pwskills',\n",
       " 'assignment': [1, 2, 3, 4],\n",
       " 'class_time': (12, 1, 2, 3),\n",
       " 'rating': {'web_dev': 5, 'data_science': 8, 'dsa': 6},\n",
       " 'mentor': ['vedita', 'bhushan', 'purva', 'durga']}"
      ]
     },
     "execution_count": 8,
     "metadata": {},
     "output_type": "execute_result"
    }
   ],
   "source": [
    "d6"
   ]
  },
  {
   "cell_type": "code",
   "execution_count": 9,
   "id": "5cdfa666-7fe2-4c1f-ab0a-760d0f10505f",
   "metadata": {},
   "outputs": [
    {
     "ename": "KeyError",
     "evalue": "'pop'",
     "output_type": "error",
     "traceback": [
      "\u001b[0;31m---------------------------------------------------------------------------\u001b[0m",
      "\u001b[0;31mKeyError\u001b[0m                                  Traceback (most recent call last)",
      "Cell \u001b[0;32mIn[9], line 1\u001b[0m\n\u001b[0;32m----> 1\u001b[0m \u001b[38;5;28;01mdel\u001b[39;00m d6[\u001b[38;5;124m'\u001b[39m\u001b[38;5;124mpop\u001b[39m\u001b[38;5;124m'\u001b[39m]\n",
      "\u001b[0;31mKeyError\u001b[0m: 'pop'"
     ]
    }
   ],
   "source": [
    "del d6['pop']"
   ]
  },
  {
   "cell_type": "code",
   "execution_count": 10,
   "id": "bb39d4e5-9c9c-4a6b-bef6-da7eaea2632b",
   "metadata": {},
   "outputs": [],
   "source": [
    "del d6['mentor']"
   ]
  },
  {
   "cell_type": "code",
   "execution_count": 11,
   "id": "8566826d-120e-454e-942c-2cb87b24f617",
   "metadata": {},
   "outputs": [
    {
     "data": {
      "text/plain": [
       "{'date': {12, 14, 28},\n",
       " 'name': 'pwskills',\n",
       " 'assignment': [1, 2, 3, 4],\n",
       " 'class_time': (12, 1, 2, 3),\n",
       " 'rating': {'web_dev': 5, 'data_science': 8, 'dsa': 6}}"
      ]
     },
     "execution_count": 11,
     "metadata": {},
     "output_type": "execute_result"
    }
   ],
   "source": [
    "d6"
   ]
  },
  {
   "cell_type": "code",
   "execution_count": 12,
   "id": "6e74eaac-c1b9-483d-89a5-397204d978b7",
   "metadata": {},
   "outputs": [
    {
     "data": {
      "text/plain": [
       "dict_keys(['date', 'name', 'assignment', 'class_time', 'rating'])"
      ]
     },
     "execution_count": 12,
     "metadata": {},
     "output_type": "execute_result"
    }
   ],
   "source": [
    "d6.keys()"
   ]
  },
  {
   "cell_type": "code",
   "execution_count": 13,
   "id": "6953f02c-5e9d-4cb0-a110-03d608ed7ada",
   "metadata": {},
   "outputs": [
    {
     "data": {
      "text/plain": [
       "dict_values([{28, 12, 14}, 'pwskills', [1, 2, 3, 4], (12, 1, 2, 3), {'web_dev': 5, 'data_science': 8, 'dsa': 6}])"
      ]
     },
     "execution_count": 13,
     "metadata": {},
     "output_type": "execute_result"
    }
   ],
   "source": [
    "d6.values()"
   ]
  },
  {
   "cell_type": "code",
   "execution_count": 15,
   "id": "d0169a47-cab5-46b3-aa3c-c33be27a8565",
   "metadata": {},
   "outputs": [
    {
     "data": {
      "text/plain": [
       "[('date', {12, 14, 28}),\n",
       " ('name', 'pwskills'),\n",
       " ('assignment', [1, 2, 3, 4]),\n",
       " ('class_time', (12, 1, 2, 3)),\n",
       " ('rating', {'web_dev': 5, 'data_science': 8, 'dsa': 6})]"
      ]
     },
     "execution_count": 15,
     "metadata": {},
     "output_type": "execute_result"
    }
   ],
   "source": [
    "list(d6.items())"
   ]
  },
  {
   "cell_type": "code",
   "execution_count": 16,
   "id": "a1826783-62d0-483a-a1b8-1c6912d8f11d",
   "metadata": {},
   "outputs": [
    {
     "data": {
      "text/plain": [
       "{12, 14, 28}"
      ]
     },
     "execution_count": 16,
     "metadata": {},
     "output_type": "execute_result"
    }
   ],
   "source": [
    "d6.pop('date')"
   ]
  },
  {
   "cell_type": "code",
   "execution_count": 17,
   "id": "a48cbf54-8342-4751-b60a-2379a92565a9",
   "metadata": {},
   "outputs": [
    {
     "ename": "TypeError",
     "evalue": "pop expected at least 1 argument, got 0",
     "output_type": "error",
     "traceback": [
      "\u001b[0;31m---------------------------------------------------------------------------\u001b[0m",
      "\u001b[0;31mTypeError\u001b[0m                                 Traceback (most recent call last)",
      "Cell \u001b[0;32mIn[17], line 1\u001b[0m\n\u001b[0;32m----> 1\u001b[0m \u001b[43md6\u001b[49m\u001b[38;5;241;43m.\u001b[39;49m\u001b[43mpop\u001b[49m\u001b[43m(\u001b[49m\u001b[43m)\u001b[49m\n",
      "\u001b[0;31mTypeError\u001b[0m: pop expected at least 1 argument, got 0"
     ]
    }
   ],
   "source": [
    "d6.pop() #no indexing for dictionary"
   ]
  },
  {
   "cell_type": "code",
   "execution_count": null,
   "id": "03420d75-3fa1-436b-b874-ccdc9bebb136",
   "metadata": {},
   "outputs": [],
   "source": []
  }
 ],
 "metadata": {
  "kernelspec": {
   "display_name": "Python 3 (ipykernel)",
   "language": "python",
   "name": "python3"
  },
  "language_info": {
   "codemirror_mode": {
    "name": "ipython",
    "version": 3
   },
   "file_extension": ".py",
   "mimetype": "text/x-python",
   "name": "python",
   "nbconvert_exporter": "python",
   "pygments_lexer": "ipython3",
   "version": "3.10.8"
  }
 },
 "nbformat": 4,
 "nbformat_minor": 5
}
