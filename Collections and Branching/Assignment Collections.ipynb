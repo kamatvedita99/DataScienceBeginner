{
 "cells": [
  {
   "cell_type": "code",
   "execution_count": 2,
   "id": "105a32b5-ceb4-4da0-b7c0-6f5a036e36f6",
   "metadata": {},
   "outputs": [
    {
     "data": {
      "text/plain": [
       "'3.10.8 | packaged by conda-forge | (main, Nov 22 2022, 08:26:04) [GCC 10.4.0]'"
      ]
     },
     "execution_count": 2,
     "metadata": {},
     "output_type": "execute_result"
    }
   ],
   "source": [
    "import sys\n",
    "sys.version\n"
   ]
  },
  {
   "cell_type": "code",
   "execution_count": 5,
   "id": "a4be25ef-f0f9-42b4-8007-0ba9ca282335",
   "metadata": {},
   "outputs": [
    {
     "name": "stdin",
     "output_type": "stream",
     "text": [
      "Enter your percentage 67\n"
     ]
    },
    {
     "name": "stdout",
     "output_type": "stream",
     "text": [
      "you grade :C\n"
     ]
    }
   ],
   "source": [
    "percentage = int(input(\"Enter your percentage\"))\n",
    "\n",
    "if percentage > 90:\n",
    "    grade = 'A'\n",
    "    \n",
    "elif percentage > 80:\n",
    "    grade = 'B'\n",
    "\n",
    "elif percentage >= 60:\n",
    "    grade = 'C'\n",
    "    \n",
    "else:\n",
    "    grade = 'D'\n",
    "\n",
    "print(\"you grade :\"+ grade)"
   ]
  },
  {
   "cell_type": "code",
   "execution_count": 7,
   "id": "52be8592-3a3c-4d8b-9ee2-9882f64bf49f",
   "metadata": {},
   "outputs": [
    {
     "name": "stdin",
     "output_type": "stream",
     "text": [
      "Enter price of the bike for tax computation 55324\n"
     ]
    },
    {
     "name": "stdout",
     "output_type": "stream",
     "text": [
      "tax rate is 10.0%\n"
     ]
    }
   ],
   "source": [
    "bike_price = float(input(\"Enter price of the bike for tax computation\"))\n",
    "if bike_price > 100000:\n",
    "    tax_rate = 0.15\n",
    "elif bike_price > 50000:\n",
    "    tax_rate = 0.1\n",
    "else:\n",
    "    tax_rate = 0.05\n",
    "    \n",
    "print(\"tax rate is \"+str(tax_rate*100)+\"%\")\n"
   ]
  },
  {
   "cell_type": "code",
   "execution_count": 10,
   "id": "9fd608dd-376a-42d5-8c38-0f869ff97d5b",
   "metadata": {},
   "outputs": [
    {
     "name": "stdin",
     "output_type": "stream",
     "text": [
      "Enter city of your choice hbjnk\n"
     ]
    },
    {
     "ename": "KeyError",
     "evalue": "'hbjnk'",
     "output_type": "error",
     "traceback": [
      "\u001b[0;31m---------------------------------------------------------------------------\u001b[0m",
      "\u001b[0;31mKeyError\u001b[0m                                  Traceback (most recent call last)",
      "Cell \u001b[0;32mIn[10], line 3\u001b[0m\n\u001b[1;32m      1\u001b[0m city_monument_map \u001b[38;5;241m=\u001b[39m {\u001b[38;5;124m\"\u001b[39m\u001b[38;5;124mDelhi\u001b[39m\u001b[38;5;124m\"\u001b[39m:[\u001b[38;5;124m\"\u001b[39m\u001b[38;5;124mRed Fort\u001b[39m\u001b[38;5;124m\"\u001b[39m], \u001b[38;5;124m\"\u001b[39m\u001b[38;5;124mAgra\u001b[39m\u001b[38;5;124m\"\u001b[39m:[\u001b[38;5;124m\"\u001b[39m\u001b[38;5;124mTaj Mahal\u001b[39m\u001b[38;5;124m\"\u001b[39m],\u001b[38;5;124m\"\u001b[39m\u001b[38;5;124mJaipur\u001b[39m\u001b[38;5;124m\"\u001b[39m:[\u001b[38;5;124m\"\u001b[39m\u001b[38;5;124mJal Mahal\u001b[39m\u001b[38;5;124m\"\u001b[39m]}\n\u001b[1;32m      2\u001b[0m city \u001b[38;5;241m=\u001b[39m \u001b[38;5;28minput\u001b[39m(\u001b[38;5;124m\"\u001b[39m\u001b[38;5;124mEnter city of your choice\u001b[39m\u001b[38;5;124m\"\u001b[39m)\n\u001b[0;32m----> 3\u001b[0m \u001b[38;5;28mprint\u001b[39m(\u001b[43mcity_monument_map\u001b[49m\u001b[43m[\u001b[49m\u001b[43mcity\u001b[49m\u001b[43m]\u001b[49m)\n",
      "\u001b[0;31mKeyError\u001b[0m: 'hbjnk'"
     ]
    }
   ],
   "source": [
    "city_monument_map = {\"Delhi\":[\"Red Fort\"], \"Agra\":[\"Taj Mahal\"],\"Jaipur\":[\"Jal Mahal\"]}\n",
    "city = input(\"Enter city of your choice\")\n",
    "print(city_monument_map[city])\n",
    "                     "
   ]
  },
  {
   "cell_type": "code",
   "execution_count": null,
   "id": "8cc773c0-62d9-43d5-9ff0-6ca10729d53f",
   "metadata": {},
   "outputs": [],
   "source": [
    "number1 = int(input(\"Enter a number\"))\n",
    "number = number1\n",
    "count = 0\n",
    "while number > 10:\n",
    "    number/=3\n",
    "    count+=1\n",
    "print(\"Number of times \"+str(number1)+\"divisible by 3 & >10 is:\"+str(count))\n"
   ]
  },
  {
   "cell_type": "code",
   "execution_count": null,
   "id": "ba1f35e2-ec4e-45be-9785-f12ca7f0623d",
   "metadata": {},
   "outputs": [],
   "source": [
    "d6"
   ]
  },
  {
   "cell_type": "code",
   "execution_count": null,
   "id": "79f70aaf-3fce-4bde-984a-8a8202525d1a",
   "metadata": {},
   "outputs": [],
   "source": []
  }
 ],
 "metadata": {
  "kernelspec": {
   "display_name": "Python 3 (ipykernel)",
   "language": "python",
   "name": "python3"
  },
  "language_info": {
   "codemirror_mode": {
    "name": "ipython",
    "version": 3
   },
   "file_extension": ".py",
   "mimetype": "text/x-python",
   "name": "python",
   "nbconvert_exporter": "python",
   "pygments_lexer": "ipython3",
   "version": "3.10.8"
  }
 },
 "nbformat": 4,
 "nbformat_minor": 5
}
