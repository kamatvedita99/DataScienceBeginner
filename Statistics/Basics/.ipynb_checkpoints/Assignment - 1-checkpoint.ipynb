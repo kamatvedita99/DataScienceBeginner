{
 "cells": [
  {
   "cell_type": "markdown",
   "id": "ac395ef1",
   "metadata": {},
   "source": [
    " Q1.What is statistics ?\n",
    "\n",
    "Statistics is a branch of mathematics that deals with the collection, analysis, interpretation, presentation, and organization of data. It is used to draw conclusions or make inferences about a population based on a sample of data.\n",
    "\n",
    "In statistics, data is typically collected through various methods such as surveys, experiments, and observational studies. The collected data is then analyzed using various statistical techniques such as descriptive statistics (such as measures of central tendency and variability), inferential statistics (such as hypothesis testing and confidence intervals), and regression analysis.\n",
    "\n",
    "Statistics is used in many fields such as social sciences, business, engineering, medicine, and more. It plays a critical role in research and decision-making by providing methods for summarizing and analyzing data to draw meaningful conclusions.\n"
   ]
  },
  {
   "cell_type": "markdown",
   "id": "617e5b9e",
   "metadata": {},
   "source": [
    "Q2. Define the different types of statistics and give an example of when each type might be used.\n",
    "\n",
    "There are two main types of statistics: descriptive statistics and inferential statistics. Here is a brief overview of each type and an example of when they might be used:\n",
    "\n",
    "Descriptive Statistics: Descriptive statistics involves summarizing and describing a set of data using measures such as mean, median, mode, standard deviation, and range. This type of statistics is used to provide a general overview of a set of data.\n",
    "For example, a survey may be conducted to collect data on the ages of people attending a music festival. The collected data can be analyzed using descriptive statistics to summarize the central tendency, spread, and distribution of the ages of the attendees.\n",
    "\n",
    "Inferential Statistics: Inferential statistics involves using a sample of data to make inferences about a larger population. This type of statistics is used to draw conclusions about a population based on a sample of data.\n",
    "For example, a drug company may conduct a clinical trial to test the effectiveness of a new medication. Inferential statistics can be used to determine if the results observed in the sample of patients who received the medication can be generalized to the larger population of patients with the same medical condition.\n",
    "\n",
    "Overall, both types of statistics are important in different contexts, and often used together to gain a better understanding of data and make informed decisions."
   ]
  },
  {
   "cell_type": "markdown",
   "id": "e4e1f983",
   "metadata": {},
   "source": [
    "Q3. What are the different types of data and how do they differ from each other? Provide an example of\n",
    "each type of data.\n",
    "\n",
    "There are four main types of data: nominal, ordinal, interval, and ratio. Here is a brief overview of each type and an example of when each type might be used:\n",
    "\n",
    "Nominal data: Nominal data is categorical data that can be sorted into different categories, but there is no inherent order or ranking among the categories. Examples of nominal data include gender, eye color, and nationality.\n",
    "\n",
    "Ordinal data: Ordinal data is categorical data that can be sorted into categories with an inherent order or ranking. However, the differences between the categories are not necessarily equal. Examples of ordinal data include education level (e.g. high school, college, graduate degree), socioeconomic status (e.g. low, middle, high), and rating scales (e.g. strongly agree, agree, neutral, disagree, strongly disagree).\n",
    "\n",
    "Interval data: Interval data is numerical data that has a consistent unit of measurement but doesn't have a meaningful zero point and the ratios between the values are not meaningful. Examples of interval data include temperature measured in degrees Celsius or Fahrenheit, and dates measured in years.\n",
    "\n",
    "Ratio data: Ratio data is numerical data that has a consistent unit of measurement, a meaningful zero point, and meaningful ratios between values. Examples of ratio data include height, weight, and age."
   ]
  },
  {
   "cell_type": "markdown",
   "id": "5a506853",
   "metadata": {},
   "source": [
    "Q4. Categorise the following datasets with respect to quantitative and qualitative data types:\n",
    "(i) Grading in exam: A+, A, B+, B, C+, C, D, E \n",
    "Ans- Qualitative Ordinal\n",
    "\n",
    "(ii) Colour of mangoes: yellow, green, orange, red\n",
    "Ans- Qualitative Nominal\n",
    "\n",
    "(iii) Height data of a class: [178.9, 179, 179.5, 176, 177.2, 178.3, 175.8,...]\n",
    "Ans- Quantitative Continuous\n",
    "\n",
    "(iv) Number of mangoes exported by a farm: [500, 600, 478, 672, ...]\n",
    "Ans- Quantitative Discrete"
   ]
  },
  {
   "cell_type": "markdown",
   "id": "ba592cb0",
   "metadata": {},
   "source": [
    "Q5. Explain the concept of levels of measurement and give an example of a variable for each level.\n",
    "\n",
    "Nominal Scale Data\n",
    "\n",
    "- It refers to categorical data that does not have any inherent ranking/ordering. \n",
    "- Eg: Gender, Blood Group, Marital status, PinCode\n",
    "\n",
    "Ordinal Scale Data\n",
    "- It refers to categorical data which has inherent ranking/ordering.\n",
    "- Difference between the ordinal scale entities cannot be measured.\n",
    "- Eg: Rating scale(1-5), College degree/grades(A-F)\n",
    "\n",
    "Interval Scale Data\n",
    "- It refers to quantitative data with inherent order.\n",
    "- Difference between the entities is meaningful\n",
    "- There is no absolute 0/ true 0 reference point.\n",
    "- Ratio of two interval scale entities is not meaningful.\n",
    "- Eg: Temperature in Celsius, Farenheit\n",
    "\n",
    "Ratio Scale Data\n",
    "- It refers to quantitative data with inherent order.\n",
    "- Difference between the entities is meaningful\n",
    "- There is an absolute 0/ true 0 reference point. 0 represents absence of the entity.\n",
    "- Ratio of two interval scale entities is meaningful.\n",
    "- Eg: Temperature in Kelvin, Height, Weight, Marks of students\n",
    "\n",
    "\n"
   ]
  },
  {
   "cell_type": "markdown",
   "id": "2769ec7b",
   "metadata": {},
   "source": [
    "Q6. Why is it important to understand the level of measurement when analyzing data? Provide an\n",
    "example to illustrate your answer.\n",
    "\n",
    "We can apply appropriate statistical techniques only if we truly understand out data. We need to make sure our data is well organized and is representative of the population we wish to study for.\n",
    "\n",
    "Based on the type of data, we choose the type of tests, visualizations and operations to be applied.\n",
    "\n",
    "For example, if a variable is measured at the nominal level (categorical data), we can only perform simple descriptive statistics like frequencies and percentages, and we cannot calculate measures of central tendency or variability. We also cannot make meaningful comparisons between different categories using inferential statistics like t-tests or ANOVA. \n",
    "\n",
    "On the other hand, if a variable is measured at the interval or ratio level (continuous data), we can perform a wider range of statistical analyses including calculating means, standard deviations, correlations, and regression models.\n",
    "\n",
    "Suppose we are analyzing data from a customer satisfaction survey and one of the questions asks respondents to rate their satisfaction with a product on a scale of 1 to 10. If we treat this variable as a nominal variable, we can only report the frequencies and percentages of each rating. However, if we treat it as an interval or ratio variable, we can calculate the mean and standard deviation of the ratings, and use inferential statistics to determine if there are significant differences in satisfaction between different groups (e.g., by age, gender, or product feature). By understanding the level of measurement, we can choose appropriate statistical methods and draw more accurate conclusions from the data.\n",
    "\n"
   ]
  },
  {
   "cell_type": "markdown",
   "id": "b5e43f2c",
   "metadata": {},
   "source": [
    "Q7. How nominal data type is different from ordinal data type.\n",
    "\n",
    "Nominal Data\n",
    "- It refers to categorical data that does not have any inherent ranking/ordering.\n",
    "- Eg: Gender, Blood Group, Marital status, PinCode\n",
    "\n",
    "Ordinal Data\n",
    "\n",
    "It refers to categorical data which has inherent ranking/ordering.\n",
    "- Difference between the ordinal scale entities cannot be measured.\n",
    "- Eg: Rating scale(1-5), College degree/grades(A-F)"
   ]
  },
  {
   "cell_type": "markdown",
   "id": "0a2f471e",
   "metadata": {},
   "source": [
    "Q8. Which type of plot can be used to display data in terms of range?\n",
    "\n",
    "A box plot (also known as a box-and-whisker plot) is a type of plot that can be used to display data in terms of range.\n",
    "\n",
    "A box plot displays the distribution of data by showing the median, quartiles, and range of the dataset. The box in the plot represents the interquartile range (IQR), which is the middle 50% of the data, and the line inside the box represents the median. The whiskers represent the range of the data, excluding outliers, and any points beyond the whiskers are considered outliers.\n",
    "\n",
    "By displaying the range of the data in a box plot, we can easily see the spread of the data and any outliers that may be present. This makes it a useful tool for comparing distributions of different datasets or subsets of a single dataset."
   ]
  },
  {
   "cell_type": "markdown",
   "id": "15addd40",
   "metadata": {},
   "source": [
    "Q9. Describe the difference between descriptive and inferential statistics. Give an example of each\n",
    "type of statistics and explain how they are used.\n",
    "\n",
    "Descriptive Statistics: Descriptive statistics involves summarizing and describing a set of data using measures such as mean, median, mode, standard deviation, and range. This type of statistics is used to provide a general overview of a set of data. For example, a survey may be conducted to collect data on the ages of people attending a music festival. The collected data can be analyzed using descriptive statistics to summarize the central tendency, spread, and distribution of the ages of the attendees.\n",
    "\n",
    "Inferential Statistics: Inferential statistics involves using a sample of data to make inferences about a larger population. This type of statistics is used to draw conclusions about a population based on a sample of data. For example, a drug company may conduct a clinical trial to test the effectiveness of a new medication. Inferential statistics can be used to determine if the results observed in the sample of patients who received the medication can be generalized to the larger population of patients with the same medical condition.\n",
    "\n",
    "Overall, descriptive statistics is used to summarize and understand the characteristics of a dataset, while inferential statistics is used to make predictions and draw conclusions about a larger population based on a sample of data.\n"
   ]
  },
  {
   "cell_type": "markdown",
   "id": "b23c495a",
   "metadata": {},
   "source": [
    "Q10. What are some common measures of central tendency and variability used in statistics? Explain\n",
    "how each measure can be used to describe a dataset.\n",
    "Measures of central tendency and variability are important descriptive statistics used to summarize and describe a dataset.\n",
    "\n",
    "Measures of central tendency are used to represent the center of the distribution of a dataset. There are three common measures of central tendency:\n",
    "\n",
    "Mean: The mean is calculated by summing all the values in the dataset and dividing by the total number of values. The mean is sensitive to extreme values or outliers in the data, and it is often used when the distribution of data is approximately symmetrical.\n",
    "\n",
    "Median: The median is the value that divides the dataset into two equal halves. It is less sensitive to outliers than the mean, making it a better measure of central tendency for skewed datasets.\n",
    "\n",
    "Mode: The mode is the value that occurs most frequently in the dataset. It is used when we want to know the most common value in the dataset.\n",
    "\n",
    "Measures of variability are used to describe how spread out or varied the data is. There are two common measures of variability:\n",
    "\n",
    "Range: The range is calculated by subtracting the smallest value from the largest value in the dataset. It provides a rough estimate of how dispersed the data is, but it is sensitive to extreme values.\n",
    "\n",
    "Standard deviation: The standard deviation is calculated by taking the square root of the variance, which is the average of the squared deviations from the mean. It measures the average distance of each data point from the mean and provides a more precise estimate of how dispersed the data is.\n",
    "\n",
    "These measures can be used together to provide a more complete description of a dataset. For example, if we calculate the mean, median, and mode of a dataset, we can get an idea of the center of the data and whether it is skewed. If we also calculate the range and standard deviation, we can get an idea of how spread out the data is and how much variability there is. Overall, measures of central tendency and variability are important tools for summarizing and describing a dataset."
   ]
  }
 ],
 "metadata": {
  "kernelspec": {
   "display_name": "Python 3",
   "language": "python",
   "name": "python3"
  },
  "language_info": {
   "codemirror_mode": {
    "name": "ipython",
    "version": 3
   },
   "file_extension": ".py",
   "mimetype": "text/x-python",
   "name": "python",
   "nbconvert_exporter": "python",
   "pygments_lexer": "ipython3",
   "version": "3.8.8"
  }
 },
 "nbformat": 4,
 "nbformat_minor": 5
}
