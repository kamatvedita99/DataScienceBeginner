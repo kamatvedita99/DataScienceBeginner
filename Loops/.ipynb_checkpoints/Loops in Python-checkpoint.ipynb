{
 "cells": [
  {
   "cell_type": "code",
   "execution_count": 3,
   "id": "597cfdb4",
   "metadata": {},
   "outputs": [
    {
     "name": "stdout",
     "output_type": "stream",
     "text": [
      "[2]\n",
      "[2, 3]\n",
      "[2, 3, 4]\n",
      "[2, 3, 4, 5]\n",
      "[2, 3, 4, 5, 6]\n",
      "[2, 3, 4, 5, 6, 7]\n",
      "[2, 3, 4, 5, 6, 7, 8]\n",
      "[2, 3, 4, 5, 6, 7, 8, 9]\n",
      "[2, 3, 4, 5, 6, 7, 8, 9, 10]\n"
     ]
    }
   ],
   "source": [
    "l = [1,2,3,4,5,6,7,8,9]\n",
    "l1 = []\n",
    "for i in l:\n",
    "    l1.append(i+1)\n",
    "    print(l1)\n"
   ]
  },
  {
   "cell_type": "markdown",
   "id": "5916deac",
   "metadata": {},
   "source": [
    "# For Loop\n"
   ]
  },
  {
   "cell_type": "code",
   "execution_count": 5,
   "id": "f7f88450",
   "metadata": {},
   "outputs": [
    {
     "name": "stdout",
     "output_type": "stream",
     "text": [
      "['SUDH']\n",
      "['SUDH', 'KUMAR']\n",
      "['SUDH', 'KUMAR', 'PWSKILLS']\n",
      "['SUDH', 'KUMAR', 'PWSKILLS', 'COURSE']\n"
     ]
    }
   ],
   "source": [
    "l = [\"sudh\",\"kumar\",\"pwskills\",\"course\"]\n",
    "l1 = []\n",
    "for i in l:\n",
    "    l1.append(i.upper())\n",
    "    print(l1)"
   ]
  },
  {
   "cell_type": "code",
   "execution_count": 7,
   "id": "82c93273",
   "metadata": {},
   "outputs": [
    {
     "name": "stdout",
     "output_type": "stream",
     "text": [
      "['sudh', 'kumar', 'abc']\n",
      "[1, 2, 3, 4, 4, 324, 34.456]\n"
     ]
    }
   ],
   "source": [
    "l = [1,2,3,4,4,\"sudh\",\"kumar\",324,34.456,\"abc\"]\n",
    "lstr = []\n",
    "lnum = []\n",
    "\n",
    "for i in l:\n",
    "    \n",
    "    if type(i) == int or type(i) == float:\n",
    "        lnum.append(i)\n",
    "    else:\n",
    "        lstr.append(i)\n",
    "        \n",
    "print(lstr)\n",
    "print(lnum)\n",
    "    \n"
   ]
  },
  {
   "cell_type": "code",
   "execution_count": 8,
   "id": "51d2cf2c",
   "metadata": {},
   "outputs": [
    {
     "name": "stdout",
     "output_type": "stream",
     "text": [
      "1\n",
      "2\n",
      "3\n",
      "4\n",
      "5\n"
     ]
    }
   ],
   "source": [
    "l = [1,2,3,4,5]\n",
    "for i in l:\n",
    "    print(i)"
   ]
  },
  {
   "cell_type": "code",
   "execution_count": 9,
   "id": "a6e0f491",
   "metadata": {},
   "outputs": [
    {
     "name": "stdout",
     "output_type": "stream",
     "text": [
      "sudh\n",
      "kumar\n",
      "krish\n",
      "naik\n"
     ]
    }
   ],
   "source": [
    "l1 = ['sudh','kumar','krish','naik']\n",
    "for i in l1:\n",
    "    print(i)"
   ]
  },
  {
   "cell_type": "markdown",
   "id": "a2d29c5a",
   "metadata": {},
   "source": [
    "# For else loop"
   ]
  },
  {
   "cell_type": "code",
   "execution_count": 10,
   "id": "734fbaac",
   "metadata": {},
   "outputs": [
    {
     "name": "stdout",
     "output_type": "stream",
     "text": [
      "sudh\n",
      "kumar\n",
      "krish\n",
      "naik\n",
      "if for loop is able to complete itself then only else will execute\n"
     ]
    }
   ],
   "source": [
    "for i in l1:\n",
    "    print(i)\n",
    "else:\n",
    "    print(\"if for loop is able to complete itself then only else will execute\")"
   ]
  },
  {
   "cell_type": "code",
   "execution_count": 12,
   "id": "8e9aec53",
   "metadata": {},
   "outputs": [
    {
     "name": "stdout",
     "output_type": "stream",
     "text": [
      "sudh\n"
     ]
    }
   ],
   "source": [
    "for i in l1:\n",
    "    if i ==\"kumar\":\n",
    "        break\n",
    "    print(i)\n",
    "else:\n",
    "    print(\"if for loop is not completed successfully, I won't be printed!\")"
   ]
  },
  {
   "cell_type": "code",
   "execution_count": 13,
   "id": "e9780abe",
   "metadata": {},
   "outputs": [
    {
     "name": "stdout",
     "output_type": "stream",
     "text": [
      "sudh\n",
      "krish\n",
      "naik\n",
      "if for loop is not completed successfully, I won't be printed!\n"
     ]
    }
   ],
   "source": [
    "for i in l1:\n",
    "    if i ==\"kumar\":\n",
    "        continue\n",
    "    print(i)\n",
    "else:\n",
    "    print(\"if for loop is not completed successfully, I won't be printed!\")"
   ]
  },
  {
   "cell_type": "markdown",
   "id": "5223ade2",
   "metadata": {},
   "source": [
    "# While loop"
   ]
  },
  {
   "cell_type": "code",
   "execution_count": 5,
   "id": "a672d6a6",
   "metadata": {},
   "outputs": [
    {
     "name": "stdout",
     "output_type": "stream",
     "text": [
      "1\n",
      "2\n",
      "3\n",
      "4\n",
      "5\n",
      "6\n",
      "7\n",
      "8\n",
      "9\n",
      "10\n"
     ]
    }
   ],
   "source": [
    "a =1 \n",
    "while a<=10:\n",
    "    print(a)\n",
    "    a+=1"
   ]
  },
  {
   "cell_type": "code",
   "execution_count": 7,
   "id": "cc6d1e23",
   "metadata": {},
   "outputs": [
    {
     "name": "stdout",
     "output_type": "stream",
     "text": [
      "enter your input5\n",
      "1\n",
      "3\n",
      "6\n",
      "10\n",
      "15\n"
     ]
    },
    {
     "data": {
      "text/plain": [
       "15"
      ]
     },
     "execution_count": 7,
     "metadata": {},
     "output_type": "execute_result"
    }
   ],
   "source": [
    "n = int(input(\"enter your input\"))\n",
    "starting_point = 0\n",
    "counter =1\n",
    "while(counter <= n):\n",
    "    starting_point+=counter\n",
    "    print(starting_point)\n",
    "    counter+=1\n",
    "\n",
    "starting_point\n",
    "    "
   ]
  },
  {
   "cell_type": "code",
   "execution_count": 11,
   "id": "3eeab8aa",
   "metadata": {},
   "outputs": [
    {
     "name": "stdout",
     "output_type": "stream",
     "text": [
      "Enter the number for calcularing factorial6\n"
     ]
    },
    {
     "data": {
      "text/plain": [
       "720"
      ]
     },
     "execution_count": 11,
     "metadata": {},
     "output_type": "execute_result"
    }
   ],
   "source": [
    "n = int(input(\"Enter the number for calcularing factorial\"))\n",
    "factorial = 1\n",
    "while n > 0 :\n",
    "    factorial *=n\n",
    "    n-=1\n",
    "\n",
    "factorial\n",
    "    "
   ]
  },
  {
   "cell_type": "code",
   "execution_count": 14,
   "id": "6bca4d07",
   "metadata": {},
   "outputs": [
    {
     "name": "stdout",
     "output_type": "stream",
     "text": [
      "Enter a number upto which fibonacci series is to be generated.9\n",
      "0\n",
      "1\n",
      "1\n",
      "2\n",
      "3\n",
      "5\n",
      "8\n",
      "13\n",
      "21\n"
     ]
    }
   ],
   "source": [
    "n = int(input(\"Enter no of items of which fibonacci series is to be generated.\"))\n",
    "a , b = 0,1\n",
    "counter = 0\n",
    "while(counter < n):\n",
    "    print(a)\n",
    "    c = a + b\n",
    "    a = b\n",
    "    b = c\n",
    "    counter+=1\n",
    "    "
   ]
  },
  {
   "cell_type": "code",
   "execution_count": 18,
   "id": "0d126e06",
   "metadata": {},
   "outputs": [
    {
     "name": "stdout",
     "output_type": "stream",
     "text": [
      "0\n",
      "1\n",
      "1\n",
      "2\n",
      "3\n",
      "5\n",
      "8\n",
      "13\n",
      "21\n"
     ]
    }
   ],
   "source": [
    "#fibonacci\n",
    "a,b =0,1\n",
    "for i in range(n):\n",
    "    print(a)\n",
    "    c =a+b\n",
    "    a = b\n",
    "    b = c"
   ]
  },
  {
   "cell_type": "code",
   "execution_count": 20,
   "id": "0e87c877",
   "metadata": {},
   "outputs": [
    {
     "name": "stdout",
     "output_type": "stream",
     "text": [
      "enter you string for reversalvedita kamat\n"
     ]
    },
    {
     "data": {
      "text/plain": [
       "'tamak atidev'"
      ]
     },
     "execution_count": 20,
     "metadata": {},
     "output_type": "execute_result"
    }
   ],
   "source": [
    "#reverse a string\n",
    "word = input(\"enter you string for reversal\")\n",
    "reverse = \"\"\n",
    "length = len(word)\n",
    "\n",
    "while(length>0):\n",
    "    reverse= reverse + word[length-1]\n",
    "    length -= 1\n",
    "reverse"
   ]
  },
  {
   "cell_type": "code",
   "execution_count": 23,
   "id": "23d7efbc",
   "metadata": {},
   "outputs": [
    {
     "name": "stdout",
     "output_type": "stream",
     "text": [
      "Enter the number whose table you wish to generate21\n",
      "21  *  1  =  21\n",
      "21  *  2  =  42\n",
      "21  *  3  =  63\n",
      "21  *  4  =  84\n",
      "21  *  5  =  105\n",
      "21  *  6  =  126\n",
      "21  *  7  =  147\n",
      "21  *  8  =  168\n",
      "21  *  9  =  189\n",
      "21  *  10  =  210\n"
     ]
    }
   ],
   "source": [
    "n = int(input(\"Enter the number whose table you wish to generate\"))\n",
    "counter = 1\n",
    "while(counter <= 10):\n",
    "    print(n, \" * \",counter,\" = \",n*counter)\n",
    "    counter +=1\n"
   ]
  },
  {
   "cell_type": "code",
   "execution_count": 26,
   "id": "930f682c",
   "metadata": {},
   "outputs": [
    {
     "name": "stdout",
     "output_type": "stream",
     "text": [
      "21  *  1  =  21\n",
      "21  *  2  =  42\n",
      "21  *  3  =  63\n",
      "21  *  4  =  84\n",
      "21  *  5  =  105\n",
      "21  *  6  =  126\n",
      "21  *  7  =  147\n",
      "21  *  8  =  168\n",
      "21  *  9  =  189\n",
      "21  *  10  =  210\n"
     ]
    }
   ],
   "source": [
    "for i in range(1,11):\n",
    "    print(n,\" * \", i,\" = \",n*i)"
   ]
  },
  {
   "cell_type": "markdown",
   "id": "05e67f27",
   "metadata": {},
   "source": [
    "# While else loop \n",
    "The else executes if while loop gets executed successfully."
   ]
  },
  {
   "cell_type": "code",
   "execution_count": 27,
   "id": "8528bf8c",
   "metadata": {},
   "outputs": [
    {
     "name": "stdout",
     "output_type": "stream",
     "text": [
      "1\n",
      "2\n",
      "3\n",
      "4\n",
      "Executed once while completes successfully.\n"
     ]
    }
   ],
   "source": [
    "n = 5\n",
    "i =1\n",
    "while i<n:\n",
    "    print(i)\n",
    "    i+=1\n",
    "else:\n",
    "    print(\"Executed once while completes successfully.\")"
   ]
  },
  {
   "cell_type": "code",
   "execution_count": 28,
   "id": "ee7be3fa",
   "metadata": {},
   "outputs": [
    {
     "name": "stdout",
     "output_type": "stream",
     "text": [
      "1\n",
      "2\n"
     ]
    }
   ],
   "source": [
    "n = 5\n",
    "i = 1\n",
    "while i<n:\n",
    "    print(i)\n",
    "    if i==2:\n",
    "        break\n",
    "    i+=1\n",
    "else:\n",
    "    print(\"I won't be executed\")"
   ]
  },
  {
   "cell_type": "markdown",
   "id": "ade533da",
   "metadata": {},
   "source": [
    "# Generator function\n",
    "Generates/produces data based on the provided range.\n",
    "range -> [start,end] will produce numbers from start to end-1"
   ]
  },
  {
   "cell_type": "code",
   "execution_count": 14,
   "id": "b05d6e71",
   "metadata": {},
   "outputs": [
    {
     "data": {
      "text/plain": [
       "range(0, 5)"
      ]
     },
     "execution_count": 14,
     "metadata": {},
     "output_type": "execute_result"
    }
   ],
   "source": [
    "range(0,5)"
   ]
  },
  {
   "cell_type": "code",
   "execution_count": 15,
   "id": "2ceaffeb",
   "metadata": {},
   "outputs": [
    {
     "data": {
      "text/plain": [
       "[0, 1, 2, 3, 4]"
      ]
     },
     "execution_count": 15,
     "metadata": {},
     "output_type": "execute_result"
    }
   ],
   "source": [
    "list(range(0,5))"
   ]
  },
  {
   "cell_type": "code",
   "execution_count": 17,
   "id": "3373bc81",
   "metadata": {},
   "outputs": [
    {
     "data": {
      "text/plain": [
       "[0, 2, 4, 6, 8, 10, 12, 14, 16, 18, 20]"
      ]
     },
     "execution_count": 17,
     "metadata": {},
     "output_type": "execute_result"
    }
   ],
   "source": [
    "list(range(0,21,2))"
   ]
  },
  {
   "cell_type": "code",
   "execution_count": 18,
   "id": "08e75098",
   "metadata": {},
   "outputs": [
    {
     "data": {
      "text/plain": [
       "[-10, -9, -8, -7, -6, -5, -4, -3, -2, -1]"
      ]
     },
     "execution_count": 18,
     "metadata": {},
     "output_type": "execute_result"
    }
   ],
   "source": [
    "list(range(-10,0))"
   ]
  },
  {
   "cell_type": "code",
   "execution_count": 19,
   "id": "ff192556",
   "metadata": {},
   "outputs": [
    {
     "data": {
      "text/plain": [
       "4"
      ]
     },
     "execution_count": 19,
     "metadata": {},
     "output_type": "execute_result"
    }
   ],
   "source": [
    "len(l1)"
   ]
  },
  {
   "cell_type": "code",
   "execution_count": 22,
   "id": "54e59b91",
   "metadata": {},
   "outputs": [
    {
     "data": {
      "text/plain": [
       "[0, 1, 2, 3]"
      ]
     },
     "execution_count": 22,
     "metadata": {},
     "output_type": "execute_result"
    }
   ],
   "source": [
    "list(range(len(l1)))"
   ]
  },
  {
   "cell_type": "code",
   "execution_count": 23,
   "id": "2abeef01",
   "metadata": {},
   "outputs": [
    {
     "name": "stdout",
     "output_type": "stream",
     "text": [
      "sudh\n",
      "kumar\n",
      "krish\n",
      "naik\n"
     ]
    }
   ],
   "source": [
    "for i in range(len(l1)):\n",
    "    print(l1[i])"
   ]
  },
  {
   "cell_type": "code",
   "execution_count": 27,
   "id": "e2f4e45a",
   "metadata": {},
   "outputs": [
    {
     "name": "stdout",
     "output_type": "stream",
     "text": [
      "naik\n",
      "krish\n",
      "kumar\n",
      "sudh\n"
     ]
    }
   ],
   "source": [
    "#reversed list\n",
    "for i in range(len(l1)-1,-1,-1):\n",
    "    print(l1[i])\n"
   ]
  },
  {
   "cell_type": "code",
   "execution_count": 29,
   "id": "af9f07d8",
   "metadata": {},
   "outputs": [
    {
     "name": "stdout",
     "output_type": "stream",
     "text": [
      "23\n",
      "45\n",
      "6\n",
      "78\n",
      "8998\n",
      "9\n"
     ]
    }
   ],
   "source": [
    "#printing values at even indexes\n",
    "l2 = [23,5,45,56,6,67,78,87,8998,9,9,8]\n",
    "for i in range(0,len(l2),2):\n",
    "    print(l2[i])"
   ]
  },
  {
   "cell_type": "code",
   "execution_count": 31,
   "id": "bc5c481f",
   "metadata": {},
   "outputs": [
    {
     "name": "stdout",
     "output_type": "stream",
     "text": [
      "5\n",
      "56\n",
      "67\n",
      "87\n",
      "9\n",
      "8\n"
     ]
    }
   ],
   "source": [
    "#printing values at odd indexes\n",
    "l2 = [23,5,45,56,6,67,78,87,8998,9,9,8]\n",
    "for i in range(1,len(l2),2):\n",
    "    print(l2[i])"
   ]
  },
  {
   "cell_type": "code",
   "execution_count": 34,
   "id": "16aed8c7",
   "metadata": {},
   "outputs": [
    {
     "name": "stdout",
     "output_type": "stream",
     "text": [
      "123\n",
      "123\n"
     ]
    }
   ],
   "source": [
    "l = [1,2,3,4,7,8,98]\n",
    "print(sum(l))\n",
    "\n",
    "#sum of list elements using for loop\n",
    "result = 0\n",
    "for i in l:\n",
    "    result+=i\n",
    "print(result)\n",
    "    "
   ]
  },
  {
   "cell_type": "code",
   "execution_count": 35,
   "id": "7d61e636",
   "metadata": {},
   "outputs": [
    {
     "name": "stdout",
     "output_type": "stream",
     "text": [
      "1\n",
      "2\n",
      "3\n",
      "4\n",
      "5\n"
     ]
    }
   ],
   "source": [
    "#tuple iteration\n",
    "t = (1,2,3,4,5)\n",
    "for i in t:\n",
    "    print(i)"
   ]
  },
  {
   "cell_type": "code",
   "execution_count": 37,
   "id": "0a97e10a",
   "metadata": {},
   "outputs": [
    {
     "name": "stdout",
     "output_type": "stream",
     "text": [
      "1\n",
      "2\n",
      "4\n",
      "5\n",
      "6\n",
      "7\n"
     ]
    }
   ],
   "source": [
    "#set iteration\n",
    "s = {1,2,4,5,6,7,4,5}\n",
    "for i in s:\n",
    "    print(i)"
   ]
  },
  {
   "cell_type": "code",
   "execution_count": 38,
   "id": "0f474d8b",
   "metadata": {},
   "outputs": [
    {
     "name": "stdout",
     "output_type": "stream",
     "text": [
      "p\n",
      "w\n",
      "s\n",
      "k\n",
      "i\n",
      "l\n",
      "l\n",
      "s\n"
     ]
    }
   ],
   "source": [
    "s1 = \"pwskills\"\n",
    "for i in s1:\n",
    "    print(i)"
   ]
  },
  {
   "cell_type": "code",
   "execution_count": 39,
   "id": "4038019e",
   "metadata": {},
   "outputs": [],
   "source": [
    "d = {\"name\":\"Vedita\",\"age\":22,\"class\":\"ds masters\",\"topic\":['python','stats','ML','DL']}"
   ]
  },
  {
   "cell_type": "code",
   "execution_count": 42,
   "id": "bc4ecdce",
   "metadata": {},
   "outputs": [
    {
     "name": "stdout",
     "output_type": "stream",
     "text": [
      "Vedita\n",
      "22\n",
      "ds masters\n",
      "['python', 'stats', 'ML', 'DL']\n"
     ]
    }
   ],
   "source": [
    "for i in d.keys():\n",
    "    print(d[i])"
   ]
  },
  {
   "cell_type": "code",
   "execution_count": 43,
   "id": "eefd51dd",
   "metadata": {},
   "outputs": [
    {
     "data": {
      "text/plain": [
       "dict_values(['Vedita', 22, 'ds masters', ['python', 'stats', 'ML', 'DL']])"
      ]
     },
     "execution_count": 43,
     "metadata": {},
     "output_type": "execute_result"
    }
   ],
   "source": [
    "d.values()"
   ]
  },
  {
   "cell_type": "code",
   "execution_count": 44,
   "id": "fa36fdca",
   "metadata": {},
   "outputs": [
    {
     "name": "stdout",
     "output_type": "stream",
     "text": [
      "Vedita\n",
      "22\n",
      "ds masters\n",
      "['python', 'stats', 'ML', 'DL']\n"
     ]
    }
   ],
   "source": [
    "for i in d.values():\n",
    "    print(i)"
   ]
  },
  {
   "cell_type": "code",
   "execution_count": 46,
   "id": "01f09aa8",
   "metadata": {},
   "outputs": [
    {
     "name": "stdout",
     "output_type": "stream",
     "text": [
      "('name', 'Vedita')\n",
      "('age', 22)\n",
      "('class', 'ds masters')\n",
      "('topic', ['python', 'stats', 'ML', 'DL'])\n"
     ]
    }
   ],
   "source": [
    "for i in d.items():\n",
    "    print(i)"
   ]
  },
  {
   "cell_type": "code",
   "execution_count": 47,
   "id": "0d9447e4",
   "metadata": {},
   "outputs": [
    {
     "data": {
      "text/plain": [
       "'p w s k i l l s'"
      ]
     },
     "execution_count": 47,
     "metadata": {},
     "output_type": "execute_result"
    }
   ],
   "source": [
    "string = \"p w s k i l l s\"\n",
    "\n",
    "\" \".join(string.replace(\" \", \"\"))"
   ]
  },
  {
   "cell_type": "code",
   "execution_count": 48,
   "id": "549269a9",
   "metadata": {},
   "outputs": [
    {
     "data": {
      "text/plain": [
       "True"
      ]
     },
     "execution_count": 48,
     "metadata": {},
     "output_type": "execute_result"
    }
   ],
   "source": [
    "\"pwskills\"[::-1].upper().replace(\"SLLIKSWP\", \"pwskills\").islower()"
   ]
  },
  {
   "cell_type": "code",
   "execution_count": 50,
   "id": "4243c1d3",
   "metadata": {},
   "outputs": [
    {
     "name": "stdout",
     "output_type": "stream",
     "text": [
      "I\n",
      "Want\n",
      "To\n",
      "Become\n",
      "A\n",
      "Data\n",
      "Scientist\n"
     ]
    }
   ],
   "source": [
    "s = \"I want to become a data scientist\"\n",
    "for i in s.split():\n",
    "\n",
    "    i.capitalize()\n",
    "\n",
    "    print(i.title())"
   ]
  },
  {
   "cell_type": "code",
   "execution_count": 51,
   "id": "fb9fe21f",
   "metadata": {},
   "outputs": [
    {
     "ename": "TypeError",
     "evalue": "ljust expected at least 1 argument, got 0",
     "output_type": "error",
     "traceback": [
      "\u001b[1;31m---------------------------------------------------------------------------\u001b[0m",
      "\u001b[1;31mTypeError\u001b[0m                                 Traceback (most recent call last)",
      "\u001b[1;32m<ipython-input-51-23dfb1865b5f>\u001b[0m in \u001b[0;36m<module>\u001b[1;34m\u001b[0m\n\u001b[1;32m----> 1\u001b[1;33m \u001b[0ms\u001b[0m\u001b[1;33m.\u001b[0m\u001b[0mljust\u001b[0m\u001b[1;33m(\u001b[0m\u001b[1;33m)\u001b[0m\u001b[1;33m\u001b[0m\u001b[1;33m\u001b[0m\u001b[0m\n\u001b[0m",
      "\u001b[1;31mTypeError\u001b[0m: ljust expected at least 1 argument, got 0"
     ]
    }
   ],
   "source": [
    "s.center()"
   ]
  },
  {
   "cell_type": "code",
   "execution_count": null,
   "id": "e9eba4ff",
   "metadata": {},
   "outputs": [],
   "source": []
  }
 ],
 "metadata": {
  "kernelspec": {
   "display_name": "Python 3",
   "language": "python",
   "name": "python3"
  },
  "language_info": {
   "codemirror_mode": {
    "name": "ipython",
    "version": 3
   },
   "file_extension": ".py",
   "mimetype": "text/x-python",
   "name": "python",
   "nbconvert_exporter": "python",
   "pygments_lexer": "ipython3",
   "version": "3.8.8"
  }
 },
 "nbformat": 4,
 "nbformat_minor": 5
}
